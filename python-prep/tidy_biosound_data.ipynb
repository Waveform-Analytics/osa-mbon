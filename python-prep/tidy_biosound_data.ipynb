{
 "cells": [
  {
   "metadata": {},
   "cell_type": "markdown",
   "source": [
    "# Biosound data - Tidy up \n",
    "Prep the biosound data for use in the dashboard\n",
    "\n",
    "To run this in Pycharm you need to set up a kernel that points to the venv:\n",
    "`python -m ipykernel install --user --name=venv-osa`\n",
    "\n",
    "Also please note that the data files and folders in this notebook point to a specific path a local Google Drive shared folder. This will not work for others - the paths will need updating for each person."
   ],
   "id": "a3134b71ecef3d6c"
  },
  {
   "metadata": {
    "ExecuteTime": {
     "end_time": "2024-06-05T19:24:39.603955Z",
     "start_time": "2024-06-05T19:24:38.722498Z"
    }
   },
   "cell_type": "code",
   "source": [
    "import pandas as pd\n",
    "import numpy as np\n",
    "\n",
    "import data_wrangler as dw\n",
    "import os"
   ],
   "id": "1169eba9af59b9a",
   "outputs": [],
   "execution_count": 1
  },
  {
   "metadata": {
    "ExecuteTime": {
     "end_time": "2024-06-05T19:24:39.614091Z",
     "start_time": "2024-06-05T19:24:39.605699Z"
    }
   },
   "cell_type": "code",
   "source": [
    "# Set up some initial things\n",
    "# Local path to the main \"Processed Data\" folder\n",
    "local_data_folder = ('/Users/michelle/Library/CloudStorage/GoogleDrive-michelle@waveformanalytics.com/.shortcut'\n",
    "                     '-targets-by-id/1QNPk7Z3Yb2uhHsHCf49pw7k_2-ivhIJg/Processed_Data')\n",
    "\n",
    "config_file = os.path.join(local_data_folder, 'BioSound_Datasets_MapApp.csv')\n",
    "df_config = pd.read_csv(config_file)\n",
    "\n",
    "annotations_folder = os.path.join(local_data_folder, 'Annotations')\n"
   ],
   "id": "963bb868eb51d740",
   "outputs": [],
   "execution_count": 2
  },
  {
   "metadata": {
    "ExecuteTime": {
     "end_time": "2024-06-05T19:24:39.635112Z",
     "start_time": "2024-06-05T19:24:39.615709Z"
    }
   },
   "cell_type": "code",
   "source": [
    "# Take a look at the contents of the config file\n",
    "df_config"
   ],
   "id": "19149c11cccb168d",
   "outputs": [
    {
     "data": {
      "text/plain": [
       "                    Dataset              folder name    short name  \\\n",
       "0          Biscayne Bay, FL             Biscayne_Bay  Biscayne Bay   \n",
       "1  Chukchi Sea, Hanna Shoal  Chukchi_Sea_Hanna_Shoal  Chuckchi Sea   \n",
       "2           Gray's Reef, GA             GraysReef_GA   Gray's Reef   \n",
       "3              Key West, FL               KeyWest_FL      Key West   \n",
       "4             May River, SC              MayRiver_SC     May River   \n",
       "5        Olowalu (Maui, HI)          Olowalu_Maui_HI       Olowalu   \n",
       "6                   ONC-MEF                  ONC_MEF           ONC   \n",
       "7             OOI-HYDBBA106            OOI_HYDBBA106           OOI   \n",
       "\n",
       "                                       Source                        Contact  \\\n",
       "0                         University of Miami  Neil Hammerschlag/Abby Tinari   \n",
       "1                     Oregon State University                  Kate Stafford   \n",
       "2                            NEFSC-SanctSound                     Tim Rowell   \n",
       "3                     Florida Fish & Wildlife                    Jess Keller   \n",
       "4          University of S. Carolina Beaufort      Alyssa Marian/Eric Montie   \n",
       "5  SanctSound - Hawaiian Islands Humpback NMS                      Eden Zang   \n",
       "6                       Ocean Networks Canada                   Jasper Kanes   \n",
       "7              Ocean Observatories Initiative                   Liz Ferguson   \n",
       "\n",
       "   Sampling Rate (kHz)  Bit Rate                Recording Cycle  \\\n",
       "0                   32        16        10 seconds every minute   \n",
       "1                   16        16          25 minutes every hour   \n",
       "2                   48        16     Continuous five hour files   \n",
       "3                   48        16  30 seconds every five minutes   \n",
       "4                   80        16           2 minutes every hour   \n",
       "5                   48        16     Continuous five hour files   \n",
       "6                   64        24      Continuous 5 minute files   \n",
       "7                   64        16      Continuous 5 minute files   \n",
       "\n",
       "   Hydrophone Latitude  Hydrophone Longitude  Instrument Depth (m)  \\\n",
       "0               25.396               -80.237                   NaN   \n",
       "1               71.600              -161.500                  30.0   \n",
       "2               31.396               -80.890                  16.0   \n",
       "3               24.442               -81.934                  23.0   \n",
       "4               32.195               -80.792                   4.5   \n",
       "5               20.807              -156.655                  59.7   \n",
       "6               47.949              -129.098                2189.0   \n",
       "7               44.637              -124.306                  80.0   \n",
       "\n",
       "      Ecosystem Type Selected Time Periods  \\\n",
       "0           Mangrove        Feb - Mar 2019   \n",
       "1           Offshore        Jan - Feb 2019   \n",
       "2           Offshore        Jan - Feb 2019   \n",
       "3         Coral Reef        Feb - Mar 2020   \n",
       "4            Estuary        Jan - Mar 2019   \n",
       "5  Island/ Nearshore        Jan - Feb 2019   \n",
       "6           Offshore        Jan - Feb 2019   \n",
       "7       Oregon Shelf        Jan - Feb 2019   \n",
       "\n",
       "                                    Seascaper File  \\\n",
       "0   CaesarCreek_SeascapeR_20190101_to_20190401.csv   \n",
       "1  ChuckChi_Sea_SeascapeR_20190101_to_20190401.csv   \n",
       "2     GraysReef_SeascapeR_20190101_to_20190401.csv   \n",
       "3       KeyWest_SeascapeR_20200101_to_20200401.csv   \n",
       "4      MayRiver_SeascapeR_20190101_to_20190401.csv   \n",
       "5      HI01_NMS_SeascapeR_20190101_to_20190401.csv   \n",
       "6       ONC_MEF_SeascapeR_20190101_to_20190401.csv   \n",
       "7     HYDBBA106_SeascapeR_20190101_to_20190401.csv   \n",
       "\n",
       "                                    Annotations File  \n",
       "0                                                NaN  \n",
       "1                Chuckchi_Sea_Vessel_2019_02_ISO.csv  \n",
       "2  sanctsound_products_detections_gr01_sanctsound...  \n",
       "3                                 KW_Annotations.csv  \n",
       "4            Master_Manual_14M_2h_011119_071619.xlsx  \n",
       "5  sanctsound_products_detections_hi01_sanctsound...  \n",
       "6                    ONC_MEF_Vessels_2019_02_ISO.csv  \n",
       "7               OOI_HYDBBA105_Vessel_2019_02_ISO.csv  "
      ],
      "text/html": [
       "<div>\n",
       "<style scoped>\n",
       "    .dataframe tbody tr th:only-of-type {\n",
       "        vertical-align: middle;\n",
       "    }\n",
       "\n",
       "    .dataframe tbody tr th {\n",
       "        vertical-align: top;\n",
       "    }\n",
       "\n",
       "    .dataframe thead th {\n",
       "        text-align: right;\n",
       "    }\n",
       "</style>\n",
       "<table border=\"1\" class=\"dataframe\">\n",
       "  <thead>\n",
       "    <tr style=\"text-align: right;\">\n",
       "      <th></th>\n",
       "      <th>Dataset</th>\n",
       "      <th>folder name</th>\n",
       "      <th>short name</th>\n",
       "      <th>Source</th>\n",
       "      <th>Contact</th>\n",
       "      <th>Sampling Rate (kHz)</th>\n",
       "      <th>Bit Rate</th>\n",
       "      <th>Recording Cycle</th>\n",
       "      <th>Hydrophone Latitude</th>\n",
       "      <th>Hydrophone Longitude</th>\n",
       "      <th>Instrument Depth (m)</th>\n",
       "      <th>Ecosystem Type</th>\n",
       "      <th>Selected Time Periods</th>\n",
       "      <th>Seascaper File</th>\n",
       "      <th>Annotations File</th>\n",
       "    </tr>\n",
       "  </thead>\n",
       "  <tbody>\n",
       "    <tr>\n",
       "      <th>0</th>\n",
       "      <td>Biscayne Bay, FL</td>\n",
       "      <td>Biscayne_Bay</td>\n",
       "      <td>Biscayne Bay</td>\n",
       "      <td>University of Miami</td>\n",
       "      <td>Neil Hammerschlag/Abby Tinari</td>\n",
       "      <td>32</td>\n",
       "      <td>16</td>\n",
       "      <td>10 seconds every minute</td>\n",
       "      <td>25.396</td>\n",
       "      <td>-80.237</td>\n",
       "      <td>NaN</td>\n",
       "      <td>Mangrove</td>\n",
       "      <td>Feb - Mar 2019</td>\n",
       "      <td>CaesarCreek_SeascapeR_20190101_to_20190401.csv</td>\n",
       "      <td>NaN</td>\n",
       "    </tr>\n",
       "    <tr>\n",
       "      <th>1</th>\n",
       "      <td>Chukchi Sea, Hanna Shoal</td>\n",
       "      <td>Chukchi_Sea_Hanna_Shoal</td>\n",
       "      <td>Chuckchi Sea</td>\n",
       "      <td>Oregon State University</td>\n",
       "      <td>Kate Stafford</td>\n",
       "      <td>16</td>\n",
       "      <td>16</td>\n",
       "      <td>25 minutes every hour</td>\n",
       "      <td>71.600</td>\n",
       "      <td>-161.500</td>\n",
       "      <td>30.0</td>\n",
       "      <td>Offshore</td>\n",
       "      <td>Jan - Feb 2019</td>\n",
       "      <td>ChuckChi_Sea_SeascapeR_20190101_to_20190401.csv</td>\n",
       "      <td>Chuckchi_Sea_Vessel_2019_02_ISO.csv</td>\n",
       "    </tr>\n",
       "    <tr>\n",
       "      <th>2</th>\n",
       "      <td>Gray's Reef, GA</td>\n",
       "      <td>GraysReef_GA</td>\n",
       "      <td>Gray's Reef</td>\n",
       "      <td>NEFSC-SanctSound</td>\n",
       "      <td>Tim Rowell</td>\n",
       "      <td>48</td>\n",
       "      <td>16</td>\n",
       "      <td>Continuous five hour files</td>\n",
       "      <td>31.396</td>\n",
       "      <td>-80.890</td>\n",
       "      <td>16.0</td>\n",
       "      <td>Offshore</td>\n",
       "      <td>Jan - Feb 2019</td>\n",
       "      <td>GraysReef_SeascapeR_20190101_to_20190401.csv</td>\n",
       "      <td>sanctsound_products_detections_gr01_sanctsound...</td>\n",
       "    </tr>\n",
       "    <tr>\n",
       "      <th>3</th>\n",
       "      <td>Key West, FL</td>\n",
       "      <td>KeyWest_FL</td>\n",
       "      <td>Key West</td>\n",
       "      <td>Florida Fish &amp; Wildlife</td>\n",
       "      <td>Jess Keller</td>\n",
       "      <td>48</td>\n",
       "      <td>16</td>\n",
       "      <td>30 seconds every five minutes</td>\n",
       "      <td>24.442</td>\n",
       "      <td>-81.934</td>\n",
       "      <td>23.0</td>\n",
       "      <td>Coral Reef</td>\n",
       "      <td>Feb - Mar 2020</td>\n",
       "      <td>KeyWest_SeascapeR_20200101_to_20200401.csv</td>\n",
       "      <td>KW_Annotations.csv</td>\n",
       "    </tr>\n",
       "    <tr>\n",
       "      <th>4</th>\n",
       "      <td>May River, SC</td>\n",
       "      <td>MayRiver_SC</td>\n",
       "      <td>May River</td>\n",
       "      <td>University of S. Carolina Beaufort</td>\n",
       "      <td>Alyssa Marian/Eric Montie</td>\n",
       "      <td>80</td>\n",
       "      <td>16</td>\n",
       "      <td>2 minutes every hour</td>\n",
       "      <td>32.195</td>\n",
       "      <td>-80.792</td>\n",
       "      <td>4.5</td>\n",
       "      <td>Estuary</td>\n",
       "      <td>Jan - Mar 2019</td>\n",
       "      <td>MayRiver_SeascapeR_20190101_to_20190401.csv</td>\n",
       "      <td>Master_Manual_14M_2h_011119_071619.xlsx</td>\n",
       "    </tr>\n",
       "    <tr>\n",
       "      <th>5</th>\n",
       "      <td>Olowalu (Maui, HI)</td>\n",
       "      <td>Olowalu_Maui_HI</td>\n",
       "      <td>Olowalu</td>\n",
       "      <td>SanctSound - Hawaiian Islands Humpback NMS</td>\n",
       "      <td>Eden Zang</td>\n",
       "      <td>48</td>\n",
       "      <td>16</td>\n",
       "      <td>Continuous five hour files</td>\n",
       "      <td>20.807</td>\n",
       "      <td>-156.655</td>\n",
       "      <td>59.7</td>\n",
       "      <td>Island/ Nearshore</td>\n",
       "      <td>Jan - Feb 2019</td>\n",
       "      <td>HI01_NMS_SeascapeR_20190101_to_20190401.csv</td>\n",
       "      <td>sanctsound_products_detections_hi01_sanctsound...</td>\n",
       "    </tr>\n",
       "    <tr>\n",
       "      <th>6</th>\n",
       "      <td>ONC-MEF</td>\n",
       "      <td>ONC_MEF</td>\n",
       "      <td>ONC</td>\n",
       "      <td>Ocean Networks Canada</td>\n",
       "      <td>Jasper Kanes</td>\n",
       "      <td>64</td>\n",
       "      <td>24</td>\n",
       "      <td>Continuous 5 minute files</td>\n",
       "      <td>47.949</td>\n",
       "      <td>-129.098</td>\n",
       "      <td>2189.0</td>\n",
       "      <td>Offshore</td>\n",
       "      <td>Jan - Feb 2019</td>\n",
       "      <td>ONC_MEF_SeascapeR_20190101_to_20190401.csv</td>\n",
       "      <td>ONC_MEF_Vessels_2019_02_ISO.csv</td>\n",
       "    </tr>\n",
       "    <tr>\n",
       "      <th>7</th>\n",
       "      <td>OOI-HYDBBA106</td>\n",
       "      <td>OOI_HYDBBA106</td>\n",
       "      <td>OOI</td>\n",
       "      <td>Ocean Observatories Initiative</td>\n",
       "      <td>Liz Ferguson</td>\n",
       "      <td>64</td>\n",
       "      <td>16</td>\n",
       "      <td>Continuous 5 minute files</td>\n",
       "      <td>44.637</td>\n",
       "      <td>-124.306</td>\n",
       "      <td>80.0</td>\n",
       "      <td>Oregon Shelf</td>\n",
       "      <td>Jan - Feb 2019</td>\n",
       "      <td>HYDBBA106_SeascapeR_20190101_to_20190401.csv</td>\n",
       "      <td>OOI_HYDBBA105_Vessel_2019_02_ISO.csv</td>\n",
       "    </tr>\n",
       "  </tbody>\n",
       "</table>\n",
       "</div>"
      ]
     },
     "execution_count": 3,
     "metadata": {},
     "output_type": "execute_result"
    }
   ],
   "execution_count": 3
  },
  {
   "metadata": {},
   "cell_type": "markdown",
   "source": [
    "## Annotations data\n",
    "\n",
    "### Prep Key West annotations\n",
    "Key west annotations are a bit different from the others. They're in a folder that contains several .txt files that need to first be merged and then copied into the same annotations folder as the other datasets."
   ],
   "id": "18eb470c9b63267e"
  },
  {
   "metadata": {
    "ExecuteTime": {
     "end_time": "2024-06-05T19:24:40.204323Z",
     "start_time": "2024-06-05T19:24:40.029723Z"
    }
   },
   "cell_type": "code",
   "source": [
    "KW_ANNOTATIONS_FOLDER = os.path.join(local_data_folder, 'KeyWest_FL/v1/Fish_Annotations')\n",
    "KW_ANNOTATIONS_OUTFIILE = os.path.join(local_data_folder, 'Annotations/KW_Annotations.csv')\n",
    "\n",
    "# Run the function from data_wrangler to convert to the regular annotations format and move the file to the same location as the rest of the annotation files\n",
    "dw.combine_annotation_txt_files(KW_ANNOTATIONS_FOLDER, KW_ANNOTATIONS_OUTFIILE)"
   ],
   "id": "65f911d4af73e1bd",
   "outputs": [],
   "execution_count": 4
  },
  {
   "metadata": {},
   "cell_type": "markdown",
   "source": "### Prep May River annotations data",
   "id": "712db8a1ccd3886"
  },
  {
   "metadata": {},
   "cell_type": "code",
   "outputs": [],
   "execution_count": null,
   "source": "MR_ANNOTATIONS_FILE = os.path.join(local_data_folder, '')",
   "id": "d896142dee754321"
  },
  {
   "metadata": {},
   "cell_type": "markdown",
   "source": "## Index data",
   "id": "ca1131a1a20075e7"
  },
  {
   "metadata": {
    "ExecuteTime": {
     "end_time": "2024-06-05T19:24:48.038767Z",
     "start_time": "2024-06-05T19:24:40.658420Z"
    }
   },
   "cell_type": "code",
   "source": [
    "df_aco = dw.prep_index_data(local_data_folder, normalize=False)\n",
    "df_aco_norm = dw.normalize_df(df_aco, df_aco.columns[7:-2])"
   ],
   "id": "82a583bf6d391e9a",
   "outputs": [],
   "execution_count": 5
  },
  {
   "metadata": {
    "ExecuteTime": {
     "end_time": "2024-06-05T19:24:48.109255Z",
     "start_time": "2024-06-05T19:24:48.040786Z"
    }
   },
   "cell_type": "code",
   "source": "np.unique(df_aco[\"Dataset\"])",
   "id": "818656d1ac928b5b",
   "outputs": [
    {
     "data": {
      "text/plain": [
       "array(['Biscayne Bay, FL'], dtype=object)"
      ]
     },
     "execution_count": 6,
     "metadata": {},
     "output_type": "execute_result"
    }
   ],
   "execution_count": 6
  },
  {
   "metadata": {},
   "cell_type": "markdown",
   "source": "# Add the annotation information to index dataframes",
   "id": "ee52bc70b8f87980"
  },
  {
   "metadata": {
    "ExecuteTime": {
     "end_time": "2024-06-05T19:24:48.123472Z",
     "start_time": "2024-06-05T19:24:48.111189Z"
    }
   },
   "cell_type": "code",
   "source": [
    "# Load the fish codes lookup table\n",
    "df_codes = pd.read_csv(\"../shiny/data/fish_codes.csv\")\n",
    "\n",
    "unique_fish_codes = np.unique(df_codes['code']).tolist()\n",
    "\n",
    "# Add new columns that are named using unique_fish_codes. These will become the \n",
    "dw.add_new_columns(df_aco, unique_fish_codes)\n",
    "dw.add_new_columns(df_aco_norm, unique_fish_codes)"
   ],
   "id": "96303ef60a4b190e",
   "outputs": [],
   "execution_count": 7
  },
  {
   "metadata": {
    "jupyter": {
     "is_executing": true
    },
    "ExecuteTime": {
     "start_time": "2024-06-05T19:25:55.210567Z"
    }
   },
   "cell_type": "code",
   "source": "dw.add_annotations_to_df(df_aco, df_config, df_codes)",
   "id": "9b02ffacf635acaf",
   "outputs": [],
   "execution_count": null
  }
 ],
 "metadata": {
  "kernelspec": {
   "display_name": "venv-osa",
   "language": "python",
   "name": "venv-osa"
  },
  "language_info": {
   "codemirror_mode": {
    "name": "ipython",
    "version": 2
   },
   "file_extension": ".py",
   "mimetype": "text/x-python",
   "name": "python",
   "nbconvert_exporter": "python",
   "pygments_lexer": "ipython2",
   "version": "2.7.6"
  }
 },
 "nbformat": 4,
 "nbformat_minor": 5
}
