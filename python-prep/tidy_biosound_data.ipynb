{
 "cells": [
  {
   "metadata": {},
   "cell_type": "markdown",
   "source": [
    "# Biosound data - Tidy up \n",
    "Prep the biosound data for use in the dashboard\n",
    "\n",
    "To run this in Pycharm you need to set up a kernel that points to the venv:\n",
    "`python -m ipykernel install --user --name=venv-osa`\n",
    "\n",
    "Also please note that the data files and folders in this notebook point to a specific path a local Google Drive shared folder. This will not work for others - the paths will need updating for each person."
   ],
   "id": "a3134b71ecef3d6c"
  },
  {
   "metadata": {
    "ExecuteTime": {
     "end_time": "2024-06-05T16:18:58.285627Z",
     "start_time": "2024-06-05T16:18:58.281794Z"
    }
   },
   "cell_type": "code",
   "source": [
    "import pandas as pd\n",
    "import numpy as np\n",
    "\n",
    "import data_wrangler as dw\n",
    "import os"
   ],
   "id": "1169eba9af59b9a",
   "outputs": [],
   "execution_count": 10
  },
  {
   "metadata": {
    "ExecuteTime": {
     "end_time": "2024-06-05T15:49:17.499384Z",
     "start_time": "2024-06-05T15:49:17.496273Z"
    }
   },
   "cell_type": "code",
   "source": [
    "# Set up some initial things\n",
    "# Local path to the main \"Processed Data\" folder\n",
    "local_data_folder = ('/Users/michelle/Library/CloudStorage/GoogleDrive-michelle@waveformanalytics.com/.shortcut'\n",
    "                     '-targets-by-id/1QNPk7Z3Yb2uhHsHCf49pw7k_2-ivhIJg/Processed_Data')\n",
    "\n",
    "annotations_folder = os.path.join(local_data_folder, 'Annotations')\n"
   ],
   "id": "963bb868eb51d740",
   "outputs": [],
   "execution_count": 2
  },
  {
   "metadata": {},
   "cell_type": "markdown",
   "source": [
    "## Annotations data\n",
    "\n",
    "### Prep Key West annotations\n",
    "Key west annotations are a bit different from the others. They're in a folder that contains several .txt files that need to first be merged and then copied into the same annotations folder as the other datasets."
   ],
   "id": "18eb470c9b63267e"
  },
  {
   "metadata": {
    "ExecuteTime": {
     "end_time": "2024-06-05T14:53:18.685399Z",
     "start_time": "2024-06-05T14:39:59.526992Z"
    }
   },
   "cell_type": "code",
   "source": [
    "KW_ANNOTATIONS_FOLDER = os.path.join(local_data_folder, 'KeyWest_FL/v1/Fish_Annotations')\n",
    "KW_ANNOTATIONS_OUTFIILE = os.path.join(local_data_folder, 'Annotations/KW_Annotations.csv')\n",
    "\n",
    "# Run the function from data_wrangler to convert to the regular annotations format\n",
    "dw.combine_annotation_txt_files(KW_ANNOTATIONS_FOLDER, KW_ANNOTATIONS_OUTFIILE)"
   ],
   "id": "65f911d4af73e1bd",
   "outputs": [],
   "execution_count": 5
  },
  {
   "metadata": {},
   "cell_type": "markdown",
   "source": "## Index data",
   "id": "ca1131a1a20075e7"
  },
  {
   "metadata": {
    "ExecuteTime": {
     "end_time": "2024-06-05T16:16:13.874655Z",
     "start_time": "2024-06-05T16:15:29.685178Z"
    }
   },
   "cell_type": "code",
   "source": [
    "df_aco = dw.prep_index_data(local_data_folder, normalize=False)\n",
    "df_aco_norm = dw.normalize_df(df_aco, df_aco.columns[7:-2])"
   ],
   "id": "82a583bf6d391e9a",
   "outputs": [],
   "execution_count": 4
  },
  {
   "metadata": {},
   "cell_type": "markdown",
   "source": "# Add the annotation information to index dataframes",
   "id": "ee52bc70b8f87980"
  },
  {
   "metadata": {
    "ExecuteTime": {
     "end_time": "2024-06-05T16:18:24.075033Z",
     "start_time": "2024-06-05T16:18:24.069818Z"
    }
   },
   "cell_type": "code",
   "source": [
    "# Load the fish codes lookup table\n",
    "fish_codes_file = pd.read_csv(\"../shiny/data/fish_codes.csv\")\n",
    "\n",
    "# Add a column for each unique \"code\" in the fish_codes_file\n"
   ],
   "id": "96303ef60a4b190e",
   "outputs": [],
   "execution_count": 8
  },
  {
   "metadata": {
    "ExecuteTime": {
     "end_time": "2024-06-05T16:19:40.996936Z",
     "start_time": "2024-06-05T16:19:40.990361Z"
    }
   },
   "cell_type": "code",
   "source": [
    "fish_codes_file.columns\n",
    "np.unique(fish_codes_file['code'])"
   ],
   "id": "52782c3ae1018404",
   "outputs": [
    {
     "data": {
      "text/plain": [
       "array(['Ac', 'Bd', 'Bo', 'Em', 'Es', 'Mb', 'Oy', 'Rd', 'Sp', 'Ss', 'Uk',\n",
       "       'Vs', 'Wf'], dtype=object)"
      ]
     },
     "execution_count": 14,
     "metadata": {},
     "output_type": "execute_result"
    }
   ],
   "execution_count": 14
  },
  {
   "metadata": {},
   "cell_type": "code",
   "outputs": [],
   "execution_count": null,
   "source": "",
   "id": "df5d1f6a87e78bc0"
  }
 ],
 "metadata": {
  "kernelspec": {
   "display_name": "venv-osa",
   "language": "python",
   "name": "venv-osa"
  },
  "language_info": {
   "codemirror_mode": {
    "name": "ipython",
    "version": 2
   },
   "file_extension": ".py",
   "mimetype": "text/x-python",
   "name": "python",
   "nbconvert_exporter": "python",
   "pygments_lexer": "ipython2",
   "version": "2.7.6"
  }
 },
 "nbformat": 4,
 "nbformat_minor": 5
}
