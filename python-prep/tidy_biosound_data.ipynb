{
 "cells": [
  {
   "metadata": {},
   "cell_type": "markdown",
   "source": [
    "# Biosound data - Tidy up \n",
    "Prep the biosound data for use in the dashboard\n",
    "\n",
    "To run this in Pycharm you need to set up a kernel that points to the venv:\n",
    "`python -m ipykernel install --user --name=venv-osa`\n",
    "\n",
    "Also please note that the data files and folders in this notebook point to a specific path a local Google Drive shared folder. This will not work for others - the paths will need updating for each person."
   ],
   "id": "a3134b71ecef3d6c"
  },
  {
   "metadata": {
    "ExecuteTime": {
     "end_time": "2024-06-06T21:07:27.473222Z",
     "start_time": "2024-06-06T21:07:26.656448Z"
    }
   },
   "cell_type": "code",
   "source": [
    "import pandas as pd\n",
    "import numpy as np\n",
    "\n",
    "import data_wrangler as dw\n",
    "import os"
   ],
   "id": "1169eba9af59b9a",
   "outputs": [],
   "execution_count": 1
  },
  {
   "metadata": {
    "ExecuteTime": {
     "end_time": "2024-06-06T21:07:27.485064Z",
     "start_time": "2024-06-06T21:07:27.475172Z"
    }
   },
   "cell_type": "code",
   "source": [
    "# Set up some initial things\n",
    "# Local path to the main \"Processed Data\" folder\n",
    "local_data_folder = ('/Users/michelle/Library/CloudStorage/GoogleDrive-michelle@waveformanalytics.com/.shortcut'\n",
    "                     '-targets-by-id/1QNPk7Z3Yb2uhHsHCf49pw7k_2-ivhIJg/Processed_Data')\n",
    "\n",
    "# config_file = os.path.join(local_data_folder, 'BioSound_Datasets_MapApp.csv')\n",
    "config_file = os.path.join(local_data_folder, 'BioSound_Datasets_MapApp_v1.csv')\n",
    "df_config = pd.read_csv(config_file)\n",
    "\n",
    "annotations_folder = os.path.join(local_data_folder, 'Annotations')\n",
    "\n",
    "# Load the fish/annotations codes lookup table\n",
    "df_codes = pd.read_csv(\"../shiny/data/fish_codes.csv\")\n",
    "\n",
    "# Satellite water class data\n",
    "seascaper_folder = \"../shiny/shinydata/fromLiz/All_SeascapeR\"\n"
   ],
   "id": "963bb868eb51d740",
   "outputs": [],
   "execution_count": 2
  },
  {
   "metadata": {
    "ExecuteTime": {
     "end_time": "2024-06-06T21:07:27.505479Z",
     "start_time": "2024-06-06T21:07:27.486654Z"
    }
   },
   "cell_type": "code",
   "source": [
    "# Take a look at the contents of the config file\n",
    "df_config"
   ],
   "id": "19149c11cccb168d",
   "outputs": [
    {
     "data": {
      "text/plain": [
       "           Dataset    short name                                      Source  \\\n",
       "0     Caesar Creek  Biscayne Bay                         University of Miami   \n",
       "1     Chuckchi Sea   Chukchi Sea                     Oregon State University   \n",
       "2      Gray's Reef   Gray's Reef                            NEFSC-SanctSound   \n",
       "3         Key West      Key West                     Florida Fish & Wildlife   \n",
       "4        May River     May River          University of S. Carolina Beaufort   \n",
       "5  SanctSound-HI01       Olowalu  SanctSound - Hawaiian Islands Humpback NMS   \n",
       "6          ONC-MEF           ONC                       Ocean Networks Canada   \n",
       "7    OOI-HYDBBA106           OOI              Ocean Observatories Initiative   \n",
       "\n",
       "                         Contact  Sampling Rate (kHz)  Bit Rate  \\\n",
       "0  Neil Hammerschlag/Abby Tinari                   32        16   \n",
       "1                  Kate Stafford                   16        16   \n",
       "2                     Tim Rowell                   48        16   \n",
       "3                    Jess Keller                   48        16   \n",
       "4      Alyssa Marian/Eric Montie                   80        16   \n",
       "5                      Eden Zang                   48        16   \n",
       "6                   Jasper Kanes                   64        24   \n",
       "7                   Liz Ferguson                   64        16   \n",
       "\n",
       "                 Recording Cycle  Hydrophone Latitude  Hydrophone Longitude  \\\n",
       "0        10 seconds every minute               25.396               -80.237   \n",
       "1          25 minutes every hour               71.600              -161.500   \n",
       "2     Continuous five hour files               31.396               -80.890   \n",
       "3  30 seconds every five minutes               24.442               -81.934   \n",
       "4           2 minutes every hour               32.195               -80.792   \n",
       "5     Continuous five hour files               20.807              -156.655   \n",
       "6      Continuous 5 minute files               47.949              -129.098   \n",
       "7      Continuous 5 minute files               44.637              -124.306   \n",
       "\n",
       "   Instrument Depth (m)     Ecosystem Type Selected Time Periods  \\\n",
       "0                   NaN           Mangrove        Feb - Mar 2019   \n",
       "1                  30.0           Offshore        Jan - Feb 2019   \n",
       "2                  16.0           Offshore        Jan - Feb 2019   \n",
       "3                  23.0         Coral Reef        Feb - Mar 2020   \n",
       "4                   4.5            Estuary        Jan - Mar 2019   \n",
       "5                  59.7  Island/ Nearshore        Jan - Feb 2019   \n",
       "6                2189.0           Offshore        Jan - Feb 2019   \n",
       "7                  80.0       Oregon Shelf        Jan - Feb 2019   \n",
       "\n",
       "                                    Seascaper File  \\\n",
       "0   CaesarCreek_SeascapeR_20190101_to_20190401.csv   \n",
       "1  ChuckChi_Sea_SeascapeR_20190101_to_20190401.csv   \n",
       "2     GraysReef_SeascapeR_20190101_to_20190401.csv   \n",
       "3       KeyWest_SeascapeR_20200101_to_20200401.csv   \n",
       "4      MayRiver_SeascapeR_20190101_to_20190401.csv   \n",
       "5      HI01_NMS_SeascapeR_20190101_to_20190401.csv   \n",
       "6       ONC_MEF_SeascapeR_20190101_to_20190401.csv   \n",
       "7     HYDBBA106_SeascapeR_20190101_to_20190401.csv   \n",
       "\n",
       "                                    Annotations File  \n",
       "0                                                NaN  \n",
       "1                Chuckchi_Sea_Vessel_2019_02_ISO.csv  \n",
       "2  sanctsound_products_detections_gr01_sanctsound...  \n",
       "3                                 KW_Annotations.csv  \n",
       "4                                 MR_Annotations.csv  \n",
       "5  sanctsound_products_detections_hi01_sanctsound...  \n",
       "6                    ONC_MEF_Vessels_2019_02_ISO.csv  \n",
       "7               OOI_HYDBBA105_Vessel_2019_02_ISO.csv  "
      ],
      "text/html": [
       "<div>\n",
       "<style scoped>\n",
       "    .dataframe tbody tr th:only-of-type {\n",
       "        vertical-align: middle;\n",
       "    }\n",
       "\n",
       "    .dataframe tbody tr th {\n",
       "        vertical-align: top;\n",
       "    }\n",
       "\n",
       "    .dataframe thead th {\n",
       "        text-align: right;\n",
       "    }\n",
       "</style>\n",
       "<table border=\"1\" class=\"dataframe\">\n",
       "  <thead>\n",
       "    <tr style=\"text-align: right;\">\n",
       "      <th></th>\n",
       "      <th>Dataset</th>\n",
       "      <th>short name</th>\n",
       "      <th>Source</th>\n",
       "      <th>Contact</th>\n",
       "      <th>Sampling Rate (kHz)</th>\n",
       "      <th>Bit Rate</th>\n",
       "      <th>Recording Cycle</th>\n",
       "      <th>Hydrophone Latitude</th>\n",
       "      <th>Hydrophone Longitude</th>\n",
       "      <th>Instrument Depth (m)</th>\n",
       "      <th>Ecosystem Type</th>\n",
       "      <th>Selected Time Periods</th>\n",
       "      <th>Seascaper File</th>\n",
       "      <th>Annotations File</th>\n",
       "    </tr>\n",
       "  </thead>\n",
       "  <tbody>\n",
       "    <tr>\n",
       "      <th>0</th>\n",
       "      <td>Caesar Creek</td>\n",
       "      <td>Biscayne Bay</td>\n",
       "      <td>University of Miami</td>\n",
       "      <td>Neil Hammerschlag/Abby Tinari</td>\n",
       "      <td>32</td>\n",
       "      <td>16</td>\n",
       "      <td>10 seconds every minute</td>\n",
       "      <td>25.396</td>\n",
       "      <td>-80.237</td>\n",
       "      <td>NaN</td>\n",
       "      <td>Mangrove</td>\n",
       "      <td>Feb - Mar 2019</td>\n",
       "      <td>CaesarCreek_SeascapeR_20190101_to_20190401.csv</td>\n",
       "      <td>NaN</td>\n",
       "    </tr>\n",
       "    <tr>\n",
       "      <th>1</th>\n",
       "      <td>Chuckchi Sea</td>\n",
       "      <td>Chukchi Sea</td>\n",
       "      <td>Oregon State University</td>\n",
       "      <td>Kate Stafford</td>\n",
       "      <td>16</td>\n",
       "      <td>16</td>\n",
       "      <td>25 minutes every hour</td>\n",
       "      <td>71.600</td>\n",
       "      <td>-161.500</td>\n",
       "      <td>30.0</td>\n",
       "      <td>Offshore</td>\n",
       "      <td>Jan - Feb 2019</td>\n",
       "      <td>ChuckChi_Sea_SeascapeR_20190101_to_20190401.csv</td>\n",
       "      <td>Chuckchi_Sea_Vessel_2019_02_ISO.csv</td>\n",
       "    </tr>\n",
       "    <tr>\n",
       "      <th>2</th>\n",
       "      <td>Gray's Reef</td>\n",
       "      <td>Gray's Reef</td>\n",
       "      <td>NEFSC-SanctSound</td>\n",
       "      <td>Tim Rowell</td>\n",
       "      <td>48</td>\n",
       "      <td>16</td>\n",
       "      <td>Continuous five hour files</td>\n",
       "      <td>31.396</td>\n",
       "      <td>-80.890</td>\n",
       "      <td>16.0</td>\n",
       "      <td>Offshore</td>\n",
       "      <td>Jan - Feb 2019</td>\n",
       "      <td>GraysReef_SeascapeR_20190101_to_20190401.csv</td>\n",
       "      <td>sanctsound_products_detections_gr01_sanctsound...</td>\n",
       "    </tr>\n",
       "    <tr>\n",
       "      <th>3</th>\n",
       "      <td>Key West</td>\n",
       "      <td>Key West</td>\n",
       "      <td>Florida Fish &amp; Wildlife</td>\n",
       "      <td>Jess Keller</td>\n",
       "      <td>48</td>\n",
       "      <td>16</td>\n",
       "      <td>30 seconds every five minutes</td>\n",
       "      <td>24.442</td>\n",
       "      <td>-81.934</td>\n",
       "      <td>23.0</td>\n",
       "      <td>Coral Reef</td>\n",
       "      <td>Feb - Mar 2020</td>\n",
       "      <td>KeyWest_SeascapeR_20200101_to_20200401.csv</td>\n",
       "      <td>KW_Annotations.csv</td>\n",
       "    </tr>\n",
       "    <tr>\n",
       "      <th>4</th>\n",
       "      <td>May River</td>\n",
       "      <td>May River</td>\n",
       "      <td>University of S. Carolina Beaufort</td>\n",
       "      <td>Alyssa Marian/Eric Montie</td>\n",
       "      <td>80</td>\n",
       "      <td>16</td>\n",
       "      <td>2 minutes every hour</td>\n",
       "      <td>32.195</td>\n",
       "      <td>-80.792</td>\n",
       "      <td>4.5</td>\n",
       "      <td>Estuary</td>\n",
       "      <td>Jan - Mar 2019</td>\n",
       "      <td>MayRiver_SeascapeR_20190101_to_20190401.csv</td>\n",
       "      <td>MR_Annotations.csv</td>\n",
       "    </tr>\n",
       "    <tr>\n",
       "      <th>5</th>\n",
       "      <td>SanctSound-HI01</td>\n",
       "      <td>Olowalu</td>\n",
       "      <td>SanctSound - Hawaiian Islands Humpback NMS</td>\n",
       "      <td>Eden Zang</td>\n",
       "      <td>48</td>\n",
       "      <td>16</td>\n",
       "      <td>Continuous five hour files</td>\n",
       "      <td>20.807</td>\n",
       "      <td>-156.655</td>\n",
       "      <td>59.7</td>\n",
       "      <td>Island/ Nearshore</td>\n",
       "      <td>Jan - Feb 2019</td>\n",
       "      <td>HI01_NMS_SeascapeR_20190101_to_20190401.csv</td>\n",
       "      <td>sanctsound_products_detections_hi01_sanctsound...</td>\n",
       "    </tr>\n",
       "    <tr>\n",
       "      <th>6</th>\n",
       "      <td>ONC-MEF</td>\n",
       "      <td>ONC</td>\n",
       "      <td>Ocean Networks Canada</td>\n",
       "      <td>Jasper Kanes</td>\n",
       "      <td>64</td>\n",
       "      <td>24</td>\n",
       "      <td>Continuous 5 minute files</td>\n",
       "      <td>47.949</td>\n",
       "      <td>-129.098</td>\n",
       "      <td>2189.0</td>\n",
       "      <td>Offshore</td>\n",
       "      <td>Jan - Feb 2019</td>\n",
       "      <td>ONC_MEF_SeascapeR_20190101_to_20190401.csv</td>\n",
       "      <td>ONC_MEF_Vessels_2019_02_ISO.csv</td>\n",
       "    </tr>\n",
       "    <tr>\n",
       "      <th>7</th>\n",
       "      <td>OOI-HYDBBA106</td>\n",
       "      <td>OOI</td>\n",
       "      <td>Ocean Observatories Initiative</td>\n",
       "      <td>Liz Ferguson</td>\n",
       "      <td>64</td>\n",
       "      <td>16</td>\n",
       "      <td>Continuous 5 minute files</td>\n",
       "      <td>44.637</td>\n",
       "      <td>-124.306</td>\n",
       "      <td>80.0</td>\n",
       "      <td>Oregon Shelf</td>\n",
       "      <td>Jan - Feb 2019</td>\n",
       "      <td>HYDBBA106_SeascapeR_20190101_to_20190401.csv</td>\n",
       "      <td>OOI_HYDBBA105_Vessel_2019_02_ISO.csv</td>\n",
       "    </tr>\n",
       "  </tbody>\n",
       "</table>\n",
       "</div>"
      ]
     },
     "execution_count": 3,
     "metadata": {},
     "output_type": "execute_result"
    }
   ],
   "execution_count": 3
  },
  {
   "metadata": {},
   "cell_type": "markdown",
   "source": [
    "## Annotations data\n",
    "\n",
    "### Prep Key West annotations\n",
    "Key west annotations are a bit different from the others. They're in a folder that contains several .txt files that need to first be merged and then copied into the same annotations folder as the other datasets."
   ],
   "id": "18eb470c9b63267e"
  },
  {
   "metadata": {
    "ExecuteTime": {
     "end_time": "2024-06-06T21:07:27.694429Z",
     "start_time": "2024-06-06T21:07:27.508035Z"
    }
   },
   "cell_type": "code",
   "source": [
    "KW_ANNOTATIONS_FOLDER = os.path.join(local_data_folder, 'Annotations/key-west-original')\n",
    "KW_ANNOTATIONS_OUTFILE = os.path.join(local_data_folder, 'Annotations/KW_Annotations.csv')\n",
    "\n",
    "# Run the function from data_wrangler to convert to the regular annotations format and move the file to the same location as the rest of the annotation files\n",
    "dw.annotation_prep_kw_style(KW_ANNOTATIONS_FOLDER, KW_ANNOTATIONS_OUTFILE)"
   ],
   "id": "65f911d4af73e1bd",
   "outputs": [],
   "execution_count": 4
  },
  {
   "metadata": {},
   "cell_type": "markdown",
   "source": "### Prep May River annotations data",
   "id": "712db8a1ccd3886"
  },
  {
   "metadata": {
    "ExecuteTime": {
     "end_time": "2024-06-06T21:07:29.747985Z",
     "start_time": "2024-06-06T21:07:27.695772Z"
    }
   },
   "cell_type": "code",
   "source": [
    "MR_ANNOTATIONS_FILE = os.path.join(local_data_folder, 'Annotations/may-river-original/Master_Manual_14M_2h_011119_071619.xlsx')\n",
    "MR_ANNOTATIONS_OUTFILE = os.path.join(local_data_folder, 'Annotations/MR_Annotations.csv')\n",
    "\n",
    "dw.annotation_prep_mr_style(MR_ANNOTATIONS_FILE, MR_ANNOTATIONS_OUTFILE, df_codes)"
   ],
   "id": "d896142dee754321",
   "outputs": [],
   "execution_count": 5
  },
  {
   "metadata": {},
   "cell_type": "markdown",
   "source": "## Index data",
   "id": "ca1131a1a20075e7"
  },
  {
   "metadata": {
    "ExecuteTime": {
     "end_time": "2024-06-06T21:08:01.123205Z",
     "start_time": "2024-06-06T21:07:29.751185Z"
    }
   },
   "cell_type": "code",
   "source": [
    "# INDEX_DATA_FOLDER = os.path.join(local_data_folder, 'Revised_Indices_AllData_v2')\n",
    "INDEX_DATA_FOLDER = os.path.join(local_data_folder, 'Original_Indices_AllData_v1')\n",
    "\n",
    "df_aco0 = dw.prep_index_data(INDEX_DATA_FOLDER, normalize=False)\n",
    "df_aco_norm0 = dw.normalize_df(df_aco0, df_aco0.columns[7:-2])"
   ],
   "id": "82a583bf6d391e9a",
   "outputs": [],
   "execution_count": 6
  },
  {
   "metadata": {},
   "cell_type": "markdown",
   "source": "## Add the annotation information to index dataframes",
   "id": "ee52bc70b8f87980"
  },
  {
   "metadata": {
    "ExecuteTime": {
     "end_time": "2024-06-06T21:08:01.733579Z",
     "start_time": "2024-06-06T21:08:01.125691Z"
    }
   },
   "cell_type": "code",
   "source": [
    "unique_codes = np.unique(df_codes['code']).tolist()\n",
    "\n",
    "# Add new columns that are named using unique_fish_codes. These will become the \n",
    "df_aco = dw.add_new_columns(df_aco0, unique_codes)\n",
    "df_aco_norm = dw.add_new_columns(df_aco_norm0, unique_codes)"
   ],
   "id": "96303ef60a4b190e",
   "outputs": [],
   "execution_count": 7
  },
  {
   "metadata": {
    "ExecuteTime": {
     "end_time": "2024-06-06T21:10:13.039445Z",
     "start_time": "2024-06-06T21:09:59.510924Z"
    }
   },
   "cell_type": "code",
   "source": [
    "df_aco_anno = dw.add_annotations_to_df(df_aco, df_config, df_codes, annotations_folder)\n",
    "df_aco_norm_anno = dw.add_annotations_to_df(df_aco_norm, df_config, df_codes, annotations_folder)"
   ],
   "id": "9b02ffacf635acaf",
   "outputs": [],
   "execution_count": 10
  },
  {
   "metadata": {},
   "cell_type": "code",
   "outputs": [],
   "execution_count": null,
   "source": "",
   "id": "75a21fb17a8b7e40"
  }
 ],
 "metadata": {
  "kernelspec": {
   "display_name": "venv-osa",
   "language": "python",
   "name": "venv-osa"
  },
  "language_info": {
   "codemirror_mode": {
    "name": "ipython",
    "version": 2
   },
   "file_extension": ".py",
   "mimetype": "text/x-python",
   "name": "python",
   "nbconvert_exporter": "python",
   "pygments_lexer": "ipython2",
   "version": "2.7.6"
  }
 },
 "nbformat": 4,
 "nbformat_minor": 5
}
