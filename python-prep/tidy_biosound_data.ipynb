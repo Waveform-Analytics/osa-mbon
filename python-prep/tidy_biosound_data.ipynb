{
 "cells": [
  {
   "metadata": {},
   "cell_type": "markdown",
   "source": [
    "# Biosound data - Tidy up \n",
    "Prep the biosound data for use in the dashboard\n",
    "\n",
    "To run this in Pycharm you need to set up a kernel that points to the venv:\n",
    "`python -m ipykernel install --user --name=venv-osa`\n",
    "\n",
    "Also please note that the data files and folders in this notebook point to a specific path a local Google Drive shared folder. This will not work for others - the paths will need updating for each person."
   ],
   "id": "a3134b71ecef3d6c"
  },
  {
   "metadata": {
    "ExecuteTime": {
     "end_time": "2024-06-05T14:33:19.370865Z",
     "start_time": "2024-06-05T14:33:19.359697Z"
    }
   },
   "cell_type": "code",
   "source": [
    "import data_wrangler as dw\n",
    "import os\n",
    "\n",
    "# Local path to the main \"Processed Data\" folder\n",
    "local_data_folder = ('/Users/michelle/Library/CloudStorage/GoogleDrive-michelle@waveformanalytics.com/.shortcut'\n",
    "                     '-targets-by-id/1QNPk7Z3Yb2uhHsHCf49pw7k_2-ivhIJg/Processed_Data')"
   ],
   "id": "1169eba9af59b9a",
   "outputs": [],
   "execution_count": 2
  },
  {
   "metadata": {},
   "cell_type": "markdown",
   "source": [
    "## Annotations data\n",
    "\n",
    "### Key West annotations\n",
    "Key west annotations are a bit different from the others. They're in a folder that contains several .txt files that need to first be merged and then copied into the same annotations folder as the other datasets."
   ],
   "id": "18eb470c9b63267e"
  },
  {
   "metadata": {
    "ExecuteTime": {
     "end_time": "2024-06-05T14:53:18.685399Z",
     "start_time": "2024-06-05T14:39:59.526992Z"
    }
   },
   "cell_type": "code",
   "source": [
    "KW_ANNOTATIONS_FOLDER = os.path.join(local_data_folder, 'KeyWest_FL/v1/Fish_Annotations')\n",
    "KW_ANNOTATIONS_OUTFIILE = os.path.join(local_data_folder, 'Annotations/KW_Annotations.csv')\n",
    "\n",
    "# Run the function from data_wrangler to convert to the regular annotations format\n",
    "dw.combine_annotation_txt_files(KW_ANNOTATIONS_FOLDER, KW_ANNOTATIONS_OUTFIILE)"
   ],
   "id": "65f911d4af73e1bd",
   "outputs": [],
   "execution_count": 5
  },
  {
   "metadata": {},
   "cell_type": "code",
   "outputs": [],
   "execution_count": null,
   "source": "/Users/michelle/Library/CloudStorage/GoogleDrive-michelle@waveformanalytics.com/.shortcut-targets-by-id/1QNPk7Z3Yb2uhHsHCf49pw7k_2-ivhIJg/Processed_Data/Annotations",
   "id": "52782c3ae1018404"
  }
 ],
 "metadata": {
  "kernelspec": {
   "display_name": "venv-osa",
   "language": "python",
   "name": "venv-osa"
  },
  "language_info": {
   "codemirror_mode": {
    "name": "ipython",
    "version": 2
   },
   "file_extension": ".py",
   "mimetype": "text/x-python",
   "name": "python",
   "nbconvert_exporter": "python",
   "pygments_lexer": "ipython2",
   "version": "2.7.6"
  }
 },
 "nbformat": 4,
 "nbformat_minor": 5
}
