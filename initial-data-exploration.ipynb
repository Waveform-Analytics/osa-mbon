{
 "cells": [
  {
   "cell_type": "markdown",
   "metadata": {},
   "source": [
    "# Initial data exploration"
   ]
  },
  {
   "cell_type": "code",
   "execution_count": 20,
   "metadata": {},
   "outputs": [],
   "source": [
    "import pandas as pd\n",
    "import plotly.express as px\n",
    "from sklearn.preprocessing import MinMaxScaler\n"
   ]
  },
  {
   "cell_type": "markdown",
   "metadata": {},
   "source": [
    "Start by importing data from the Florida Wildlife Research Institute (Marathon)."
   ]
  },
  {
   "cell_type": "code",
   "execution_count": 4,
   "metadata": {},
   "outputs": [],
   "source": [
    "fwri_indices = \"data/FWRI_Marathon/Native_Duration_30sec/2020_02/Acoustic_Indices.csv\"\n",
    "df = pd.read_csv(fwri_indices)"
   ]
  },
  {
   "cell_type": "code",
   "execution_count": 13,
   "metadata": {},
   "outputs": [],
   "source": [
    "# Convert to date strings to datetime\n",
    "df['datetime'] = pd.to_datetime(df['Date'])"
   ]
  },
  {
   "cell_type": "code",
   "execution_count": 14,
   "metadata": {},
   "outputs": [
    {
     "data": {
      "text/plain": [
       "Index(['Date', 'Filename', 'ZCR', 'MEANt', 'VARt', 'SKEWt', 'KURTt', 'LEQt',\n",
       "       'BGNt', 'SNRt', 'MED', 'Ht', 'ACTtFraction', 'ACTtCount', 'ACTtMean',\n",
       "       'EVNtFraction', 'EVNtMean', 'EVNtCount', 'MEANf', 'VARf', 'SKEWf',\n",
       "       'KURTf', 'NBPEAKS', 'LEQf', 'ENRf', 'BGNf', 'SNRf', 'Hf', 'EAS', 'ECU',\n",
       "       'ECV', 'EPS', 'EPS_KURT', 'EPS_SKEW', 'ACI', 'NDSI', 'rBA',\n",
       "       'AnthroEnergy', 'BioEnergy', 'BI', 'ROU', 'ADI', 'AEI', 'LFC', 'MFC',\n",
       "       'HFC', 'ACTspFract', 'ACTspCount', 'ACTspMean', 'EVNspFract',\n",
       "       'EVNspMean', 'EVNspCount', 'TFSD', 'H_Havrda', 'H_Renyi',\n",
       "       'H_pairedShannon', 'H_gamma', 'H_GiniSimpson', 'RAOQ', 'AGI',\n",
       "       'ROItotal', 'ROIcover', 'datetime'],\n",
       "      dtype='object')"
      ]
     },
     "execution_count": 14,
     "metadata": {},
     "output_type": "execute_result"
    }
   ],
   "source": [
    "# list the columns\n",
    "df.columns"
   ]
  },
  {
   "cell_type": "code",
   "execution_count": 17,
   "metadata": {},
   "outputs": [
    {
     "data": {
      "application/vnd.plotly.v1+json": {
       "config": {
        "plotlyServerURL": "https://plot.ly"
       },
       "data": [
        {
         "hovertemplate": "variable=ACI<br>datetime=%{x}<br>value=%{y}<extra></extra>",
         "legendgroup": "ACI",
         "line": {
          "color": "#636efa",
          "dash": "solid"
         },
         "marker": {
          "symbol": "circle"
         },
         "mode": "lines",
         "name": "ACI",
         "orientation": "v",
         "showlegend": true,
         "type": "scatter",
         "visible": true,
         "x": [
          "2020-02-01T00:05:00",
          "2020-02-01T00:10:30",
          "2020-02-01T00:16:00",
          "2020-02-01T00:21:30",
          "2020-02-01T00:27:00",
          "2020-02-01T00:32:30",
          "2020-02-01T00:38:00",
          "2020-02-01T00:43:30",
          "2020-02-01T00:49:00",
          "2020-02-01T00:54:30",
          "2020-02-01T01:00:00",
          "2020-02-01T01:05:30",
          "2020-02-01T01:11:00",
          "2020-02-01T01:16:30",
          "2020-02-01T01:22:00",
          "2020-02-01T01:27:30",
          "2020-02-01T01:33:00",
          "2020-02-01T01:38:30",
          "2020-02-01T01:44:00",
          "2020-02-01T01:49:30",
          "2020-02-01T01:55:00",
          "2020-02-01T02:00:30",
          "2020-02-01T02:06:00",
          "2020-02-01T02:11:30",
          "2020-02-01T02:17:00",
          "2020-02-01T02:22:30",
          "2020-02-01T02:28:00",
          "2020-02-01T02:33:30",
          "2020-02-01T02:39:00",
          "2020-02-01T02:44:30",
          "2020-02-01T02:50:00",
          "2020-02-01T02:55:30",
          "2020-02-01T03:01:00",
          "2020-02-01T03:06:30",
          "2020-02-01T03:12:00",
          "2020-02-01T03:17:30",
          "2020-02-01T03:23:00",
          "2020-02-01T03:28:30",
          "2020-02-01T03:34:00",
          "2020-02-01T03:39:30",
          "2020-02-01T03:45:00",
          "2020-02-01T03:50:30",
          "2020-02-01T03:56:00",
          "2020-02-01T04:01:30",
          "2020-02-01T04:07:00",
          "2020-02-01T04:12:30",
          "2020-02-01T04:18:00",
          "2020-02-01T04:23:30",
          "2020-02-01T04:29:00",
          "2020-02-01T04:34:30",
          "2020-02-01T04:40:00",
          "2020-02-01T04:45:30",
          "2020-02-01T04:51:00",
          "2020-02-01T04:56:30",
          "2020-02-01T05:02:00",
          "2020-02-01T05:07:30",
          "2020-02-01T05:13:00",
          "2020-02-01T05:18:30",
          "2020-02-01T05:24:00",
          "2020-02-01T05:29:30",
          "2020-02-01T05:35:00",
          "2020-02-01T05:40:30",
          "2020-02-01T05:46:00",
          "2020-02-01T05:51:30",
          "2020-02-01T05:57:00",
          "2020-02-01T06:02:30",
          "2020-02-01T06:08:00",
          "2020-02-01T06:13:30",
          "2020-02-01T06:19:00",
          "2020-02-01T06:24:30",
          "2020-02-01T06:30:00",
          "2020-02-01T06:35:30",
          "2020-02-01T06:41:00",
          "2020-02-01T06:46:30",
          "2020-02-01T06:52:00",
          "2020-02-01T06:57:30",
          "2020-02-01T07:03:00",
          "2020-02-01T07:08:30",
          "2020-02-01T07:14:00",
          "2020-02-01T07:19:30",
          "2020-02-01T07:25:00",
          "2020-02-01T07:30:30",
          "2020-02-01T07:36:00",
          "2020-02-01T07:41:30",
          "2020-02-01T07:47:00",
          "2020-02-01T07:52:30",
          "2020-02-01T07:58:00",
          "2020-02-01T08:03:30",
          "2020-02-01T08:09:00",
          "2020-02-01T08:14:30",
          "2020-02-01T08:20:00",
          "2020-02-01T08:25:30",
          "2020-02-01T08:31:00",
          "2020-02-01T08:36:30",
          "2020-02-01T08:42:00",
          "2020-02-01T08:47:30",
          "2020-02-01T08:53:00",
          "2020-02-01T08:58:30",
          "2020-02-01T09:04:00",
          "2020-02-01T09:09:30",
          "2020-02-01T09:15:00",
          "2020-02-01T09:20:30",
          "2020-02-01T09:26:00",
          "2020-02-01T09:31:30",
          "2020-02-01T09:37:00",
          "2020-02-01T09:42:30",
          "2020-02-01T09:48:00",
          "2020-02-01T09:53:30",
          "2020-02-01T09:59:00",
          "2020-02-01T10:04:30",
          "2020-02-01T10:10:00",
          "2020-02-01T10:15:30",
          "2020-02-01T10:21:00",
          "2020-02-01T10:26:30",
          "2020-02-01T10:32:00",
          "2020-02-01T10:37:30",
          "2020-02-01T10:43:00",
          "2020-02-01T10:48:30",
          "2020-02-01T10:54:00",
          "2020-02-01T10:59:30",
          "2020-02-01T11:05:00",
          "2020-02-01T11:10:30",
          "2020-02-01T11:16:00",
          "2020-02-01T11:21:30",
          "2020-02-01T11:27:00",
          "2020-02-01T11:32:30",
          "2020-02-01T11:38:00",
          "2020-02-01T11:43:30",
          "2020-02-01T11:49:00",
          "2020-02-01T11:54:30",
          "2020-02-01T12:00:00",
          "2020-02-01T12:05:30",
          "2020-02-01T12:11:00",
          "2020-02-01T12:16:30",
          "2020-02-01T12:22:00",
          "2020-02-01T12:27:30",
          "2020-02-01T12:33:00",
          "2020-02-01T12:38:30",
          "2020-02-01T12:44:00",
          "2020-02-01T12:49:30",
          "2020-02-01T12:55:00",
          "2020-02-01T13:00:30",
          "2020-02-01T13:06:00",
          "2020-02-01T13:11:30",
          "2020-02-01T13:17:00",
          "2020-02-01T13:22:30",
          "2020-02-01T13:28:00",
          "2020-02-01T13:33:30",
          "2020-02-01T13:39:00",
          "2020-02-01T13:44:30",
          "2020-02-01T13:50:00",
          "2020-02-01T13:55:30",
          "2020-02-01T14:01:00",
          "2020-02-01T14:06:30",
          "2020-02-01T14:12:00",
          "2020-02-01T14:17:30",
          "2020-02-01T14:23:00",
          "2020-02-01T14:28:30",
          "2020-02-01T14:34:00",
          "2020-02-01T14:39:30",
          "2020-02-01T14:45:00",
          "2020-02-01T14:50:30",
          "2020-02-01T14:56:00",
          "2020-02-01T15:01:30",
          "2020-02-01T15:07:00",
          "2020-02-01T15:12:30",
          "2020-02-01T15:18:00",
          "2020-02-01T15:23:30",
          "2020-02-01T15:29:00",
          "2020-02-01T15:34:30",
          "2020-02-01T15:40:00",
          "2020-02-01T15:45:30",
          "2020-02-01T15:51:00",
          "2020-02-01T15:56:30",
          "2020-02-01T16:02:00",
          "2020-02-01T16:07:30",
          "2020-02-01T16:13:00",
          "2020-02-01T16:18:30",
          "2020-02-01T16:24:00",
          "2020-02-01T16:29:30",
          "2020-02-01T16:35:00",
          "2020-02-01T16:40:30",
          "2020-02-01T16:46:00",
          "2020-02-01T16:51:30",
          "2020-02-01T16:57:00",
          "2020-02-01T17:02:30",
          "2020-02-01T17:08:00",
          "2020-02-01T17:13:30",
          "2020-02-01T17:19:00",
          "2020-02-01T17:24:30",
          "2020-02-01T17:30:00",
          "2020-02-01T17:35:30",
          "2020-02-01T17:41:00",
          "2020-02-01T17:46:30",
          "2020-02-01T17:52:00",
          "2020-02-01T17:57:30",
          "2020-02-01T18:03:00",
          "2020-02-01T18:08:30",
          "2020-02-01T18:14:00",
          "2020-02-01T18:19:30",
          "2020-02-01T18:25:00",
          "2020-02-01T18:30:30",
          "2020-02-01T18:36:00",
          "2020-02-01T18:41:30",
          "2020-02-01T18:47:00",
          "2020-02-01T18:52:30",
          "2020-02-01T18:58:00",
          "2020-02-01T19:03:30",
          "2020-02-01T19:09:00",
          "2020-02-01T19:14:30",
          "2020-02-01T19:20:00",
          "2020-02-01T19:25:30",
          "2020-02-01T19:31:00",
          "2020-02-01T19:36:30",
          "2020-02-01T19:42:00",
          "2020-02-01T19:47:30",
          "2020-02-01T19:53:00",
          "2020-02-01T19:58:30",
          "2020-02-01T20:04:00",
          "2020-02-01T20:09:30",
          "2020-02-01T20:15:00",
          "2020-02-01T20:20:30",
          "2020-02-01T20:26:00",
          "2020-02-01T20:31:30",
          "2020-02-01T20:37:00",
          "2020-02-01T20:42:30",
          "2020-02-01T20:48:00",
          "2020-02-01T20:53:30",
          "2020-02-01T20:59:00",
          "2020-02-01T21:04:30",
          "2020-02-01T21:10:00",
          "2020-02-01T21:15:30",
          "2020-02-01T21:21:00",
          "2020-02-01T21:26:30",
          "2020-02-01T21:32:00",
          "2020-02-01T21:37:30",
          "2020-02-01T21:43:00",
          "2020-02-01T21:48:30",
          "2020-02-01T21:54:00",
          "2020-02-01T21:59:30",
          "2020-02-01T22:05:00",
          "2020-02-01T22:10:30",
          "2020-02-01T22:16:00",
          "2020-02-01T22:21:30",
          "2020-02-01T22:27:00",
          "2020-02-01T22:32:30",
          "2020-02-01T22:38:00",
          "2020-02-01T22:43:30",
          "2020-02-01T22:49:00",
          "2020-02-01T22:54:30",
          "2020-02-01T23:00:00",
          "2020-02-01T23:05:30",
          "2020-02-01T23:11:00",
          "2020-02-01T23:16:30",
          "2020-02-01T23:22:00",
          "2020-02-01T23:27:30",
          "2020-02-01T23:33:00",
          "2020-02-01T23:38:30",
          "2020-02-01T23:44:00",
          "2020-02-01T23:49:30",
          "2020-02-01T23:55:00"
         ],
         "xaxis": "x",
         "y": [
          389.3123953657071,
          351.9902767118032,
          357.9527098423125,
          350.594551569851,
          361.291623743408,
          360.23108077700385,
          340.1687981059204,
          340.5434347799313,
          347.30143939579153,
          357.1394871163402,
          355.83740103204286,
          362.8640614034172,
          349.33335645911745,
          358.1253088744496,
          353.2822723309704,
          345.6796989541246,
          346.40923557012513,
          355.51174927581224,
          354.179830707593,
          361.89354942663385,
          358.9982467433736,
          412.5665790423008,
          361.9637451984197,
          368.8251187528135,
          362.2871862902515,
          368.7881393351676,
          360.8480327110641,
          357.8353976646631,
          373.99751147777766,
          357.0449109811964,
          384.2184971924476,
          358.9243992579781,
          390.3257647560576,
          361.9806602128168,
          357.34414108387466,
          367.5725621945639,
          373.16380181373614,
          359.0511208408644,
          367.75906001158273,
          389.8172750064825,
          387.0169866448301,
          374.51685598601966,
          360.9623922083646,
          364.2178748689441,
          366.4716960829393,
          360.1630887457208,
          372.7004856382634,
          382.60789261752507,
          381.5064047845647,
          376.00511542632046,
          381.0280359255339,
          375.8226226599488,
          375.0971544880758,
          362.0072243826801,
          361.15105353816193,
          353.1855626435181,
          358.6184353332195,
          363.7985671441842,
          353.2351305404694,
          351.77189042289405,
          351.7205121774636,
          319.5522435874684,
          354.6380041997612,
          359.2545168673083,
          354.37738656536897,
          367.3459687837583,
          370.62745848595546,
          361.5699325160327,
          362.86853423411,
          364.1497576652053,
          365.22591119747983,
          367.1890393263166,
          376.3188215156506,
          358.5949532339061,
          362.50127769130654,
          367.7420633182487,
          397.8709046532049,
          366.14916980041744,
          369.8759838057431,
          377.0752017576166,
          372.0085837867641,
          380.4076920177392,
          389.01840884101705,
          365.9017619976913,
          372.3367036832093,
          369.31767194486986,
          363.16811655395264,
          369.4104899483468,
          375.2758384619498,
          370.8748729705422,
          373.13776283065727,
          374.3523397427412,
          372.9113927319096,
          388.18096152542233,
          369.6049615276951,
          367.04906389357217,
          368.708852283182,
          369.0456314012824,
          368.4801783478264,
          378.7015647009806,
          362.9748783806031,
          364.1262876092839,
          373.7811340390013,
          377.1423266033482,
          368.6578180813469,
          371.1319789956216,
          381.23850363769225,
          362.8211330988937,
          392.1432410835116,
          343.2819226335636,
          378.0291919192293,
          361.5350776619995,
          364.0567779538249,
          365.1585810362457,
          360.8163051445276,
          356.6451940730636,
          389.04526655424365,
          369.95543340159657,
          381.5272237019112,
          388.63527132387526,
          402.97282246920827,
          367.1911131388494,
          365.2831099257888,
          375.4517048093921,
          381.7134175491569,
          363.2669253673053,
          369.9460863010923,
          371.2316313095779,
          367.8532475748571,
          353.63332294940983,
          374.8463182014881,
          379.75633505631697,
          377.43756518197625,
          373.775249449331,
          365.8572780720011,
          357.0267421133591,
          364.7329637090336,
          355.39519035950025,
          344.06403066670805,
          339.1462156356478,
          332.4875463841803,
          334.36236725495803,
          342.1366703341407,
          339.4815172125675,
          347.28545270506544,
          303.39776631858206,
          315.8902907180345,
          301.4530149773715,
          351.4594866139186,
          332.3294108894746,
          335.67149222453423,
          325.00236982191973,
          328.2203360888235,
          372.44443532849743,
          359.75184476052493,
          372.6206552924187,
          359.9601371757016,
          348.16135458224005,
          335.9672860208906,
          330.5864512829652,
          330.6579913569177,
          333.21787154099985,
          349.7657846364691,
          327.3259076544132,
          341.3202595297497,
          343.1334420931231,
          345.0178634335029,
          373.539936511658,
          343.60225389631574,
          344.7320323828221,
          364.5886991709855,
          349.879317939167,
          379.996314411033,
          344.7030194753684,
          348.4843269025197,
          347.3616965565686,
          349.6882873899386,
          344.9615868852246,
          349.150942833814,
          357.3936463975814,
          364.4294959666738,
          356.46022394435505,
          367.360922795639,
          357.6116677291196,
          366.9608463984616,
          363.943054629779,
          349.4118807193356,
          344.1537935365699,
          351.023228880718,
          352.73700108019807,
          355.4711134703042,
          356.41894681345025,
          355.63406002509123,
          362.6426896924986,
          413.3153965796466,
          368.2565969600252,
          351.50323390542667,
          376.2505350512288,
          340.7776436229836,
          359.6609385590515,
          352.3158149160317,
          364.3923157302416,
          358.496654565419,
          373.3166127899124,
          354.24671883431733,
          352.39293057166554,
          353.56154072728725,
          348.85534947888084,
          358.6888177668111,
          367.9556456473264,
          352.75023241784083,
          360.3097636539926,
          354.867978288988,
          370.9962525908247,
          366.05136089055736,
          366.2233257564984,
          359.8240812662498,
          361.0332764249383,
          365.19183473964347,
          349.27066141956084,
          348.10159350011946,
          352.7860303069719,
          357.7682807349113,
          365.6549272715125,
          355.6259275348314,
          362.573281745893,
          358.67575327819947,
          373.771016261832,
          350.7822206758135,
          371.5679026087148,
          359.8858799062604,
          361.5479769428447,
          360.9645956316512,
          357.7452955139779,
          368.300628090263,
          352.2325697326386,
          353.0333269899023,
          357.6017526137165,
          348.91152151230085,
          341.85053193620195,
          363.9108130823337,
          355.87316713242865,
          359.38581446880454,
          375.4448615541271,
          365.67253015876247,
          386.5744285635509,
          361.5489529487567,
          361.4033253067337,
          356.03547218751146,
          356.4752490409593,
          363.81055918253975,
          388.4000223055894,
          356.0977891681733,
          363.5211176227355,
          398.3476948400465,
          360.8072600460365,
          346.02446668439313,
          362.92073671991136,
          354.81217209203385,
          354.6180713815056,
          348.77551095620487
         ],
         "yaxis": "y"
        }
       ],
       "layout": {
        "autosize": true,
        "legend": {
         "title": {
          "text": "variable"
         },
         "tracegroupgap": 0
        },
        "margin": {
         "t": 60
        },
        "template": {
         "data": {
          "bar": [
           {
            "error_x": {
             "color": "#2a3f5f"
            },
            "error_y": {
             "color": "#2a3f5f"
            },
            "marker": {
             "line": {
              "color": "#E5ECF6",
              "width": 0.5
             },
             "pattern": {
              "fillmode": "overlay",
              "size": 10,
              "solidity": 0.2
             }
            },
            "type": "bar"
           }
          ],
          "barpolar": [
           {
            "marker": {
             "line": {
              "color": "#E5ECF6",
              "width": 0.5
             },
             "pattern": {
              "fillmode": "overlay",
              "size": 10,
              "solidity": 0.2
             }
            },
            "type": "barpolar"
           }
          ],
          "carpet": [
           {
            "aaxis": {
             "endlinecolor": "#2a3f5f",
             "gridcolor": "white",
             "linecolor": "white",
             "minorgridcolor": "white",
             "startlinecolor": "#2a3f5f"
            },
            "baxis": {
             "endlinecolor": "#2a3f5f",
             "gridcolor": "white",
             "linecolor": "white",
             "minorgridcolor": "white",
             "startlinecolor": "#2a3f5f"
            },
            "type": "carpet"
           }
          ],
          "choropleth": [
           {
            "colorbar": {
             "outlinewidth": 0,
             "ticks": ""
            },
            "type": "choropleth"
           }
          ],
          "contour": [
           {
            "colorbar": {
             "outlinewidth": 0,
             "ticks": ""
            },
            "colorscale": [
             [
              0,
              "#0d0887"
             ],
             [
              0.1111111111111111,
              "#46039f"
             ],
             [
              0.2222222222222222,
              "#7201a8"
             ],
             [
              0.3333333333333333,
              "#9c179e"
             ],
             [
              0.4444444444444444,
              "#bd3786"
             ],
             [
              0.5555555555555556,
              "#d8576b"
             ],
             [
              0.6666666666666666,
              "#ed7953"
             ],
             [
              0.7777777777777778,
              "#fb9f3a"
             ],
             [
              0.8888888888888888,
              "#fdca26"
             ],
             [
              1,
              "#f0f921"
             ]
            ],
            "type": "contour"
           }
          ],
          "contourcarpet": [
           {
            "colorbar": {
             "outlinewidth": 0,
             "ticks": ""
            },
            "type": "contourcarpet"
           }
          ],
          "heatmap": [
           {
            "colorbar": {
             "outlinewidth": 0,
             "ticks": ""
            },
            "colorscale": [
             [
              0,
              "#0d0887"
             ],
             [
              0.1111111111111111,
              "#46039f"
             ],
             [
              0.2222222222222222,
              "#7201a8"
             ],
             [
              0.3333333333333333,
              "#9c179e"
             ],
             [
              0.4444444444444444,
              "#bd3786"
             ],
             [
              0.5555555555555556,
              "#d8576b"
             ],
             [
              0.6666666666666666,
              "#ed7953"
             ],
             [
              0.7777777777777778,
              "#fb9f3a"
             ],
             [
              0.8888888888888888,
              "#fdca26"
             ],
             [
              1,
              "#f0f921"
             ]
            ],
            "type": "heatmap"
           }
          ],
          "heatmapgl": [
           {
            "colorbar": {
             "outlinewidth": 0,
             "ticks": ""
            },
            "colorscale": [
             [
              0,
              "#0d0887"
             ],
             [
              0.1111111111111111,
              "#46039f"
             ],
             [
              0.2222222222222222,
              "#7201a8"
             ],
             [
              0.3333333333333333,
              "#9c179e"
             ],
             [
              0.4444444444444444,
              "#bd3786"
             ],
             [
              0.5555555555555556,
              "#d8576b"
             ],
             [
              0.6666666666666666,
              "#ed7953"
             ],
             [
              0.7777777777777778,
              "#fb9f3a"
             ],
             [
              0.8888888888888888,
              "#fdca26"
             ],
             [
              1,
              "#f0f921"
             ]
            ],
            "type": "heatmapgl"
           }
          ],
          "histogram": [
           {
            "marker": {
             "pattern": {
              "fillmode": "overlay",
              "size": 10,
              "solidity": 0.2
             }
            },
            "type": "histogram"
           }
          ],
          "histogram2d": [
           {
            "colorbar": {
             "outlinewidth": 0,
             "ticks": ""
            },
            "colorscale": [
             [
              0,
              "#0d0887"
             ],
             [
              0.1111111111111111,
              "#46039f"
             ],
             [
              0.2222222222222222,
              "#7201a8"
             ],
             [
              0.3333333333333333,
              "#9c179e"
             ],
             [
              0.4444444444444444,
              "#bd3786"
             ],
             [
              0.5555555555555556,
              "#d8576b"
             ],
             [
              0.6666666666666666,
              "#ed7953"
             ],
             [
              0.7777777777777778,
              "#fb9f3a"
             ],
             [
              0.8888888888888888,
              "#fdca26"
             ],
             [
              1,
              "#f0f921"
             ]
            ],
            "type": "histogram2d"
           }
          ],
          "histogram2dcontour": [
           {
            "colorbar": {
             "outlinewidth": 0,
             "ticks": ""
            },
            "colorscale": [
             [
              0,
              "#0d0887"
             ],
             [
              0.1111111111111111,
              "#46039f"
             ],
             [
              0.2222222222222222,
              "#7201a8"
             ],
             [
              0.3333333333333333,
              "#9c179e"
             ],
             [
              0.4444444444444444,
              "#bd3786"
             ],
             [
              0.5555555555555556,
              "#d8576b"
             ],
             [
              0.6666666666666666,
              "#ed7953"
             ],
             [
              0.7777777777777778,
              "#fb9f3a"
             ],
             [
              0.8888888888888888,
              "#fdca26"
             ],
             [
              1,
              "#f0f921"
             ]
            ],
            "type": "histogram2dcontour"
           }
          ],
          "mesh3d": [
           {
            "colorbar": {
             "outlinewidth": 0,
             "ticks": ""
            },
            "type": "mesh3d"
           }
          ],
          "parcoords": [
           {
            "line": {
             "colorbar": {
              "outlinewidth": 0,
              "ticks": ""
             }
            },
            "type": "parcoords"
           }
          ],
          "pie": [
           {
            "automargin": true,
            "type": "pie"
           }
          ],
          "scatter": [
           {
            "fillpattern": {
             "fillmode": "overlay",
             "size": 10,
             "solidity": 0.2
            },
            "type": "scatter"
           }
          ],
          "scatter3d": [
           {
            "line": {
             "colorbar": {
              "outlinewidth": 0,
              "ticks": ""
             }
            },
            "marker": {
             "colorbar": {
              "outlinewidth": 0,
              "ticks": ""
             }
            },
            "type": "scatter3d"
           }
          ],
          "scattercarpet": [
           {
            "marker": {
             "colorbar": {
              "outlinewidth": 0,
              "ticks": ""
             }
            },
            "type": "scattercarpet"
           }
          ],
          "scattergeo": [
           {
            "marker": {
             "colorbar": {
              "outlinewidth": 0,
              "ticks": ""
             }
            },
            "type": "scattergeo"
           }
          ],
          "scattergl": [
           {
            "marker": {
             "colorbar": {
              "outlinewidth": 0,
              "ticks": ""
             }
            },
            "type": "scattergl"
           }
          ],
          "scattermapbox": [
           {
            "marker": {
             "colorbar": {
              "outlinewidth": 0,
              "ticks": ""
             }
            },
            "type": "scattermapbox"
           }
          ],
          "scatterpolar": [
           {
            "marker": {
             "colorbar": {
              "outlinewidth": 0,
              "ticks": ""
             }
            },
            "type": "scatterpolar"
           }
          ],
          "scatterpolargl": [
           {
            "marker": {
             "colorbar": {
              "outlinewidth": 0,
              "ticks": ""
             }
            },
            "type": "scatterpolargl"
           }
          ],
          "scatterternary": [
           {
            "marker": {
             "colorbar": {
              "outlinewidth": 0,
              "ticks": ""
             }
            },
            "type": "scatterternary"
           }
          ],
          "surface": [
           {
            "colorbar": {
             "outlinewidth": 0,
             "ticks": ""
            },
            "colorscale": [
             [
              0,
              "#0d0887"
             ],
             [
              0.1111111111111111,
              "#46039f"
             ],
             [
              0.2222222222222222,
              "#7201a8"
             ],
             [
              0.3333333333333333,
              "#9c179e"
             ],
             [
              0.4444444444444444,
              "#bd3786"
             ],
             [
              0.5555555555555556,
              "#d8576b"
             ],
             [
              0.6666666666666666,
              "#ed7953"
             ],
             [
              0.7777777777777778,
              "#fb9f3a"
             ],
             [
              0.8888888888888888,
              "#fdca26"
             ],
             [
              1,
              "#f0f921"
             ]
            ],
            "type": "surface"
           }
          ],
          "table": [
           {
            "cells": {
             "fill": {
              "color": "#EBF0F8"
             },
             "line": {
              "color": "white"
             }
            },
            "header": {
             "fill": {
              "color": "#C8D4E3"
             },
             "line": {
              "color": "white"
             }
            },
            "type": "table"
           }
          ]
         },
         "layout": {
          "annotationdefaults": {
           "arrowcolor": "#2a3f5f",
           "arrowhead": 0,
           "arrowwidth": 1
          },
          "autotypenumbers": "strict",
          "coloraxis": {
           "colorbar": {
            "outlinewidth": 0,
            "ticks": ""
           }
          },
          "colorscale": {
           "diverging": [
            [
             0,
             "#8e0152"
            ],
            [
             0.1,
             "#c51b7d"
            ],
            [
             0.2,
             "#de77ae"
            ],
            [
             0.3,
             "#f1b6da"
            ],
            [
             0.4,
             "#fde0ef"
            ],
            [
             0.5,
             "#f7f7f7"
            ],
            [
             0.6,
             "#e6f5d0"
            ],
            [
             0.7,
             "#b8e186"
            ],
            [
             0.8,
             "#7fbc41"
            ],
            [
             0.9,
             "#4d9221"
            ],
            [
             1,
             "#276419"
            ]
           ],
           "sequential": [
            [
             0,
             "#0d0887"
            ],
            [
             0.1111111111111111,
             "#46039f"
            ],
            [
             0.2222222222222222,
             "#7201a8"
            ],
            [
             0.3333333333333333,
             "#9c179e"
            ],
            [
             0.4444444444444444,
             "#bd3786"
            ],
            [
             0.5555555555555556,
             "#d8576b"
            ],
            [
             0.6666666666666666,
             "#ed7953"
            ],
            [
             0.7777777777777778,
             "#fb9f3a"
            ],
            [
             0.8888888888888888,
             "#fdca26"
            ],
            [
             1,
             "#f0f921"
            ]
           ],
           "sequentialminus": [
            [
             0,
             "#0d0887"
            ],
            [
             0.1111111111111111,
             "#46039f"
            ],
            [
             0.2222222222222222,
             "#7201a8"
            ],
            [
             0.3333333333333333,
             "#9c179e"
            ],
            [
             0.4444444444444444,
             "#bd3786"
            ],
            [
             0.5555555555555556,
             "#d8576b"
            ],
            [
             0.6666666666666666,
             "#ed7953"
            ],
            [
             0.7777777777777778,
             "#fb9f3a"
            ],
            [
             0.8888888888888888,
             "#fdca26"
            ],
            [
             1,
             "#f0f921"
            ]
           ]
          },
          "colorway": [
           "#636efa",
           "#EF553B",
           "#00cc96",
           "#ab63fa",
           "#FFA15A",
           "#19d3f3",
           "#FF6692",
           "#B6E880",
           "#FF97FF",
           "#FECB52"
          ],
          "font": {
           "color": "#2a3f5f"
          },
          "geo": {
           "bgcolor": "white",
           "lakecolor": "white",
           "landcolor": "#E5ECF6",
           "showlakes": true,
           "showland": true,
           "subunitcolor": "white"
          },
          "hoverlabel": {
           "align": "left"
          },
          "hovermode": "closest",
          "mapbox": {
           "style": "light"
          },
          "paper_bgcolor": "white",
          "plot_bgcolor": "#E5ECF6",
          "polar": {
           "angularaxis": {
            "gridcolor": "white",
            "linecolor": "white",
            "ticks": ""
           },
           "bgcolor": "#E5ECF6",
           "radialaxis": {
            "gridcolor": "white",
            "linecolor": "white",
            "ticks": ""
           }
          },
          "scene": {
           "xaxis": {
            "backgroundcolor": "#E5ECF6",
            "gridcolor": "white",
            "gridwidth": 2,
            "linecolor": "white",
            "showbackground": true,
            "ticks": "",
            "zerolinecolor": "white"
           },
           "yaxis": {
            "backgroundcolor": "#E5ECF6",
            "gridcolor": "white",
            "gridwidth": 2,
            "linecolor": "white",
            "showbackground": true,
            "ticks": "",
            "zerolinecolor": "white"
           },
           "zaxis": {
            "backgroundcolor": "#E5ECF6",
            "gridcolor": "white",
            "gridwidth": 2,
            "linecolor": "white",
            "showbackground": true,
            "ticks": "",
            "zerolinecolor": "white"
           }
          },
          "shapedefaults": {
           "line": {
            "color": "#2a3f5f"
           }
          },
          "ternary": {
           "aaxis": {
            "gridcolor": "white",
            "linecolor": "white",
            "ticks": ""
           },
           "baxis": {
            "gridcolor": "white",
            "linecolor": "white",
            "ticks": ""
           },
           "bgcolor": "#E5ECF6",
           "caxis": {
            "gridcolor": "white",
            "linecolor": "white",
            "ticks": ""
           }
          },
          "title": {
           "x": 0.05
          },
          "xaxis": {
           "automargin": true,
           "gridcolor": "white",
           "linecolor": "white",
           "ticks": "",
           "title": {
            "standoff": 15
           },
           "zerolinecolor": "white",
           "zerolinewidth": 2
          },
          "yaxis": {
           "automargin": true,
           "gridcolor": "white",
           "linecolor": "white",
           "ticks": "",
           "title": {
            "standoff": 15
           },
           "zerolinecolor": "white",
           "zerolinewidth": 2
          }
         }
        },
        "xaxis": {
         "anchor": "y",
         "autorange": true,
         "domain": [
          0,
          1
         ],
         "range": [
          "2020-02-01 00:05",
          "2020-02-01 23:55"
         ],
         "title": {
          "text": "datetime"
         },
         "type": "date"
        },
        "yaxis": {
         "anchor": "x",
         "autorange": true,
         "domain": [
          0,
          1
         ],
         "range": [
          295.23843822168953,
          419.5299733353285
         ],
         "title": {
          "text": "value"
         },
         "type": "linear"
        }
       }
      },
      "image/png": "[encoded data removed]",
      "text/html": [
       "<div>                            <div id=\"5ff577c5-4244-47f9-8408-48d581d18e24\" class=\"plotly-graph-div\" style=\"height:525px; width:100%;\"></div>            <script type=\"text/javascript\">                require([\"plotly\"], function(Plotly) {                    window.PLOTLYENV=window.PLOTLYENV || {};                                    if (document.getElementById(\"5ff577c5-4244-47f9-8408-48d581d18e24\")) {                    Plotly.newPlot(                        \"5ff577c5-4244-47f9-8408-48d581d18e24\",                        [{\"hovertemplate\":\"variable=ACI\\u003cbr\\u003edatetime=%{x}\\u003cbr\\u003evalue=%{y}\\u003cextra\\u003e\\u003c\\u002fextra\\u003e\",\"legendgroup\":\"ACI\",\"line\":{\"color\":\"#636efa\",\"dash\":\"solid\"},\"marker\":{\"symbol\":\"circle\"},\"mode\":\"lines\",\"name\":\"ACI\",\"orientation\":\"v\",\"showlegend\":true,\"x\":[\"2020-02-01T00:05:00\",\"2020-02-01T00:10:30\",\"2020-02-01T00:16:00\",\"2020-02-01T00:21:30\",\"2020-02-01T00:27:00\",\"2020-02-01T00:32:30\",\"2020-02-01T00:38:00\",\"2020-02-01T00:43:30\",\"2020-02-01T00:49:00\",\"2020-02-01T00:54:30\",\"2020-02-01T01:00:00\",\"2020-02-01T01:05:30\",\"2020-02-01T01:11:00\",\"2020-02-01T01:16:30\",\"2020-02-01T01:22:00\",\"2020-02-01T01:27:30\",\"2020-02-01T01:33:00\",\"2020-02-01T01:38:30\",\"2020-02-01T01:44:00\",\"2020-02-01T01:49:30\",\"2020-02-01T01:55:00\",\"2020-02-01T02:00:30\",\"2020-02-01T02:06:00\",\"2020-02-01T02:11:30\",\"2020-02-01T02:17:00\",\"2020-02-01T02:22:30\",\"2020-02-01T02:28:00\",\"2020-02-01T02:33:30\",\"2020-02-01T02:39:00\",\"2020-02-01T02:44:30\",\"2020-02-01T02:50:00\",\"2020-02-01T02:55:30\",\"2020-02-01T03:01:00\",\"2020-02-01T03:06:30\",\"2020-02-01T03:12:00\",\"2020-02-01T03:17:30\",\"2020-02-01T03:23:00\",\"2020-02-01T03:28:30\",\"2020-02-01T03:34:00\",\"2020-02-01T03:39:30\",\"2020-02-01T03:45:00\",\"2020-02-01T03:50:30\",\"2020-02-01T03:56:00\",\"2020-02-01T04:01:30\",\"2020-02-01T04:07:00\",\"2020-02-01T04:12:30\",\"2020-02-01T04:18:00\",\"2020-02-01T04:23:30\",\"2020-02-01T04:29:00\",\"2020-02-01T04:34:30\",\"2020-02-01T04:40:00\",\"2020-02-01T04:45:30\",\"2020-02-01T04:51:00\",\"2020-02-01T04:56:30\",\"2020-02-01T05:02:00\",\"2020-02-01T05:07:30\",\"2020-02-01T05:13:00\",\"2020-02-01T05:18:30\",\"2020-02-01T05:24:00\",\"2020-02-01T05:29:30\",\"2020-02-01T05:35:00\",\"2020-02-01T05:40:30\",\"2020-02-01T05:46:00\",\"2020-02-01T05:51:30\",\"2020-02-01T05:57:00\",\"2020-02-01T06:02:30\",\"2020-02-01T06:08:00\",\"2020-02-01T06:13:30\",\"2020-02-01T06:19:00\",\"2020-02-01T06:24:30\",\"2020-02-01T06:30:00\",\"2020-02-01T06:35:30\",\"2020-02-01T06:41:00\",\"2020-02-01T06:46:30\",\"2020-02-01T06:52:00\",\"2020-02-01T06:57:30\",\"2020-02-01T07:03:00\",\"2020-02-01T07:08:30\",\"2020-02-01T07:14:00\",\"2020-02-01T07:19:30\",\"2020-02-01T07:25:00\",\"2020-02-01T07:30:30\",\"2020-02-01T07:36:00\",\"2020-02-01T07:41:30\",\"2020-02-01T07:47:00\",\"2020-02-01T07:52:30\",\"2020-02-01T07:58:00\",\"2020-02-01T08:03:30\",\"2020-02-01T08:09:00\",\"2020-02-01T08:14:30\",\"2020-02-01T08:20:00\",\"2020-02-01T08:25:30\",\"2020-02-01T08:31:00\",\"2020-02-01T08:36:30\",\"2020-02-01T08:42:00\",\"2020-02-01T08:47:30\",\"2020-02-01T08:53:00\",\"2020-02-01T08:58:30\",\"2020-02-01T09:04:00\",\"2020-02-01T09:09:30\",\"2020-02-01T09:15:00\",\"2020-02-01T09:20:30\",\"2020-02-01T09:26:00\",\"2020-02-01T09:31:30\",\"2020-02-01T09:37:00\",\"2020-02-01T09:42:30\",\"2020-02-01T09:48:00\",\"2020-02-01T09:53:30\",\"2020-02-01T09:59:00\",\"2020-02-01T10:04:30\",\"2020-02-01T10:10:00\",\"2020-02-01T10:15:30\",\"2020-02-01T10:21:00\",\"2020-02-01T10:26:30\",\"2020-02-01T10:32:00\",\"2020-02-01T10:37:30\",\"2020-02-01T10:43:00\",\"2020-02-01T10:48:30\",\"2020-02-01T10:54:00\",\"2020-02-01T10:59:30\",\"2020-02-01T11:05:00\",\"2020-02-01T11:10:30\",\"2020-02-01T11:16:00\",\"2020-02-01T11:21:30\",\"2020-02-01T11:27:00\",\"2020-02-01T11:32:30\",\"2020-02-01T11:38:00\",\"2020-02-01T11:43:30\",\"2020-02-01T11:49:00\",\"2020-02-01T11:54:30\",\"2020-02-01T12:00:00\",\"2020-02-01T12:05:30\",\"2020-02-01T12:11:00\",\"2020-02-01T12:16:30\",\"2020-02-01T12:22:00\",\"2020-02-01T12:27:30\",\"2020-02-01T12:33:00\",\"2020-02-01T12:38:30\",\"2020-02-01T12:44:00\",\"2020-02-01T12:49:30\",\"2020-02-01T12:55:00\",\"2020-02-01T13:00:30\",\"2020-02-01T13:06:00\",\"2020-02-01T13:11:30\",\"2020-02-01T13:17:00\",\"2020-02-01T13:22:30\",\"2020-02-01T13:28:00\",\"2020-02-01T13:33:30\",\"2020-02-01T13:39:00\",\"2020-02-01T13:44:30\",\"2020-02-01T13:50:00\",\"2020-02-01T13:55:30\",\"2020-02-01T14:01:00\",\"2020-02-01T14:06:30\",\"2020-02-01T14:12:00\",\"2020-02-01T14:17:30\",\"2020-02-01T14:23:00\",\"2020-02-01T14:28:30\",\"2020-02-01T14:34:00\",\"2020-02-01T14:39:30\",\"2020-02-01T14:45:00\",\"2020-02-01T14:50:30\",\"2020-02-01T14:56:00\",\"2020-02-01T15:01:30\",\"2020-02-01T15:07:00\",\"2020-02-01T15:12:30\",\"2020-02-01T15:18:00\",\"2020-02-01T15:23:30\",\"2020-02-01T15:29:00\",\"2020-02-01T15:34:30\",\"2020-02-01T15:40:00\",\"2020-02-01T15:45:30\",\"2020-02-01T15:51:00\",\"2020-02-01T15:56:30\",\"2020-02-01T16:02:00\",\"2020-02-01T16:07:30\",\"2020-02-01T16:13:00\",\"2020-02-01T16:18:30\",\"2020-02-01T16:24:00\",\"2020-02-01T16:29:30\",\"2020-02-01T16:35:00\",\"2020-02-01T16:40:30\",\"2020-02-01T16:46:00\",\"2020-02-01T16:51:30\",\"2020-02-01T16:57:00\",\"2020-02-01T17:02:30\",\"2020-02-01T17:08:00\",\"2020-02-01T17:13:30\",\"2020-02-01T17:19:00\",\"2020-02-01T17:24:30\",\"2020-02-01T17:30:00\",\"2020-02-01T17:35:30\",\"2020-02-01T17:41:00\",\"2020-02-01T17:46:30\",\"2020-02-01T17:52:00\",\"2020-02-01T17:57:30\",\"2020-02-01T18:03:00\",\"2020-02-01T18:08:30\",\"2020-02-01T18:14:00\",\"2020-02-01T18:19:30\",\"2020-02-01T18:25:00\",\"2020-02-01T18:30:30\",\"2020-02-01T18:36:00\",\"2020-02-01T18:41:30\",\"2020-02-01T18:47:00\",\"2020-02-01T18:52:30\",\"2020-02-01T18:58:00\",\"2020-02-01T19:03:30\",\"2020-02-01T19:09:00\",\"2020-02-01T19:14:30\",\"2020-02-01T19:20:00\",\"2020-02-01T19:25:30\",\"2020-02-01T19:31:00\",\"2020-02-01T19:36:30\",\"2020-02-01T19:42:00\",\"2020-02-01T19:47:30\",\"2020-02-01T19:53:00\",\"2020-02-01T19:58:30\",\"2020-02-01T20:04:00\",\"2020-02-01T20:09:30\",\"2020-02-01T20:15:00\",\"2020-02-01T20:20:30\",\"2020-02-01T20:26:00\",\"2020-02-01T20:31:30\",\"2020-02-01T20:37:00\",\"2020-02-01T20:42:30\",\"2020-02-01T20:48:00\",\"2020-02-01T20:53:30\",\"2020-02-01T20:59:00\",\"2020-02-01T21:04:30\",\"2020-02-01T21:10:00\",\"2020-02-01T21:15:30\",\"2020-02-01T21:21:00\",\"2020-02-01T21:26:30\",\"2020-02-01T21:32:00\",\"2020-02-01T21:37:30\",\"2020-02-01T21:43:00\",\"2020-02-01T21:48:30\",\"2020-02-01T21:54:00\",\"2020-02-01T21:59:30\",\"2020-02-01T22:05:00\",\"2020-02-01T22:10:30\",\"2020-02-01T22:16:00\",\"2020-02-01T22:21:30\",\"2020-02-01T22:27:00\",\"2020-02-01T22:32:30\",\"2020-02-01T22:38:00\",\"2020-02-01T22:43:30\",\"2020-02-01T22:49:00\",\"2020-02-01T22:54:30\",\"2020-02-01T23:00:00\",\"2020-02-01T23:05:30\",\"2020-02-01T23:11:00\",\"2020-02-01T23:16:30\",\"2020-02-01T23:22:00\",\"2020-02-01T23:27:30\",\"2020-02-01T23:33:00\",\"2020-02-01T23:38:30\",\"2020-02-01T23:44:00\",\"2020-02-01T23:49:30\",\"2020-02-01T23:55:00\"],\"xaxis\":\"x\",\"y\":[389.3123953657071,351.9902767118032,357.9527098423125,350.594551569851,361.291623743408,360.23108077700385,340.1687981059204,340.5434347799313,347.30143939579153,357.1394871163402,355.83740103204286,362.8640614034172,349.33335645911745,358.1253088744496,353.2822723309704,345.6796989541246,346.40923557012513,355.51174927581224,354.179830707593,361.89354942663385,358.9982467433736,412.5665790423008,361.9637451984197,368.8251187528135,362.2871862902515,368.7881393351676,360.8480327110641,357.8353976646631,373.99751147777766,357.0449109811964,384.2184971924476,358.9243992579781,390.3257647560576,361.9806602128168,357.34414108387466,367.5725621945639,373.16380181373614,359.0511208408644,367.75906001158273,389.8172750064825,387.0169866448301,374.51685598601966,360.9623922083646,364.2178748689441,366.4716960829393,360.1630887457208,372.7004856382634,382.60789261752507,381.5064047845647,376.00511542632046,381.0280359255339,375.8226226599488,375.0971544880758,362.0072243826801,361.15105353816193,353.1855626435181,358.6184353332195,363.7985671441842,353.2351305404694,351.77189042289405,351.7205121774636,319.5522435874684,354.6380041997612,359.2545168673083,354.37738656536897,367.3459687837583,370.62745848595546,361.5699325160327,362.86853423411,364.1497576652053,365.22591119747983,367.1890393263166,376.3188215156506,358.5949532339061,362.50127769130654,367.7420633182487,397.8709046532049,366.14916980041744,369.8759838057431,377.0752017576166,372.0085837867641,380.4076920177392,389.01840884101705,365.9017619976913,372.3367036832093,369.31767194486986,363.16811655395264,369.4104899483468,375.2758384619498,370.8748729705422,373.13776283065727,374.3523397427412,372.9113927319096,388.18096152542233,369.6049615276951,367.04906389357217,368.708852283182,369.0456314012824,368.4801783478264,378.7015647009806,362.9748783806031,364.1262876092839,373.7811340390013,377.1423266033482,368.6578180813469,371.1319789956216,381.23850363769225,362.8211330988937,392.1432410835116,343.2819226335636,378.0291919192293,361.5350776619995,364.0567779538249,365.1585810362457,360.8163051445276,356.6451940730636,389.04526655424365,369.95543340159657,381.5272237019112,388.63527132387526,402.97282246920827,367.1911131388494,365.2831099257888,375.4517048093921,381.7134175491569,363.2669253673053,369.9460863010923,371.2316313095779,367.8532475748571,353.63332294940983,374.8463182014881,379.75633505631697,377.43756518197625,373.775249449331,365.8572780720011,357.0267421133591,364.7329637090336,355.39519035950025,344.06403066670805,339.1462156356478,332.4875463841803,334.36236725495803,342.1366703341407,339.4815172125675,347.28545270506544,303.39776631858206,315.8902907180345,301.4530149773715,351.4594866139186,332.3294108894746,335.67149222453423,325.00236982191973,328.2203360888235,372.44443532849743,359.75184476052493,372.6206552924187,359.9601371757016,348.16135458224005,335.9672860208906,330.5864512829652,330.6579913569177,333.21787154099985,349.7657846364691,327.3259076544132,341.3202595297497,343.1334420931231,345.0178634335029,373.539936511658,343.60225389631574,344.7320323828221,364.5886991709855,349.879317939167,379.996314411033,344.7030194753684,348.4843269025197,347.3616965565686,349.6882873899386,344.9615868852246,349.150942833814,357.3936463975814,364.4294959666738,356.46022394435505,367.360922795639,357.6116677291196,366.9608463984616,363.943054629779,349.4118807193356,344.1537935365699,351.023228880718,352.73700108019807,355.4711134703042,356.41894681345025,355.63406002509123,362.6426896924986,413.3153965796466,368.2565969600252,351.50323390542667,376.2505350512288,340.7776436229836,359.6609385590515,352.3158149160317,364.3923157302416,358.496654565419,373.3166127899124,354.24671883431733,352.39293057166554,353.56154072728725,348.85534947888084,358.6888177668111,367.9556456473264,352.75023241784083,360.3097636539926,354.867978288988,370.9962525908247,366.05136089055736,366.2233257564984,359.8240812662498,361.0332764249383,365.19183473964347,349.27066141956084,348.10159350011946,352.7860303069719,357.7682807349113,365.6549272715125,355.6259275348314,362.573281745893,358.67575327819947,373.771016261832,350.7822206758135,371.5679026087148,359.8858799062604,361.5479769428447,360.9645956316512,357.7452955139779,368.300628090263,352.2325697326386,353.0333269899023,357.6017526137165,348.91152151230085,341.85053193620195,363.9108130823337,355.87316713242865,359.38581446880454,375.4448615541271,365.67253015876247,386.5744285635509,361.5489529487567,361.4033253067337,356.03547218751146,356.4752490409593,363.81055918253975,388.4000223055894,356.0977891681733,363.5211176227355,398.3476948400465,360.8072600460365,346.02446668439313,362.92073671991136,354.81217209203385,354.6180713815056,348.77551095620487],\"yaxis\":\"y\",\"type\":\"scatter\"}],                        {\"template\":{\"data\":{\"histogram2dcontour\":[{\"type\":\"histogram2dcontour\",\"colorbar\":{\"outlinewidth\":0,\"ticks\":\"\"},\"colorscale\":[[0.0,\"#0d0887\"],[0.1111111111111111,\"#46039f\"],[0.2222222222222222,\"#7201a8\"],[0.3333333333333333,\"#9c179e\"],[0.4444444444444444,\"#bd3786\"],[0.5555555555555556,\"#d8576b\"],[0.6666666666666666,\"#ed7953\"],[0.7777777777777778,\"#fb9f3a\"],[0.8888888888888888,\"#fdca26\"],[1.0,\"#f0f921\"]]}],\"choropleth\":[{\"type\":\"choropleth\",\"colorbar\":{\"outlinewidth\":0,\"ticks\":\"\"}}],\"histogram2d\":[{\"type\":\"histogram2d\",\"colorbar\":{\"outlinewidth\":0,\"ticks\":\"\"},\"colorscale\":[[0.0,\"#0d0887\"],[0.1111111111111111,\"#46039f\"],[0.2222222222222222,\"#7201a8\"],[0.3333333333333333,\"#9c179e\"],[0.4444444444444444,\"#bd3786\"],[0.5555555555555556,\"#d8576b\"],[0.6666666666666666,\"#ed7953\"],[0.7777777777777778,\"#fb9f3a\"],[0.8888888888888888,\"#fdca26\"],[1.0,\"#f0f921\"]]}],\"heatmap\":[{\"type\":\"heatmap\",\"colorbar\":{\"outlinewidth\":0,\"ticks\":\"\"},\"colorscale\":[[0.0,\"#0d0887\"],[0.1111111111111111,\"#46039f\"],[0.2222222222222222,\"#7201a8\"],[0.3333333333333333,\"#9c179e\"],[0.4444444444444444,\"#bd3786\"],[0.5555555555555556,\"#d8576b\"],[0.6666666666666666,\"#ed7953\"],[0.7777777777777778,\"#fb9f3a\"],[0.8888888888888888,\"#fdca26\"],[1.0,\"#f0f921\"]]}],\"heatmapgl\":[{\"type\":\"heatmapgl\",\"colorbar\":{\"outlinewidth\":0,\"ticks\":\"\"},\"colorscale\":[[0.0,\"#0d0887\"],[0.1111111111111111,\"#46039f\"],[0.2222222222222222,\"#7201a8\"],[0.3333333333333333,\"#9c179e\"],[0.4444444444444444,\"#bd3786\"],[0.5555555555555556,\"#d8576b\"],[0.6666666666666666,\"#ed7953\"],[0.7777777777777778,\"#fb9f3a\"],[0.8888888888888888,\"#fdca26\"],[1.0,\"#f0f921\"]]}],\"contourcarpet\":[{\"type\":\"contourcarpet\",\"colorbar\":{\"outlinewidth\":0,\"ticks\":\"\"}}],\"contour\":[{\"type\":\"contour\",\"colorbar\":{\"outlinewidth\":0,\"ticks\":\"\"},\"colorscale\":[[0.0,\"#0d0887\"],[0.1111111111111111,\"#46039f\"],[0.2222222222222222,\"#7201a8\"],[0.3333333333333333,\"#9c179e\"],[0.4444444444444444,\"#bd3786\"],[0.5555555555555556,\"#d8576b\"],[0.6666666666666666,\"#ed7953\"],[0.7777777777777778,\"#fb9f3a\"],[0.8888888888888888,\"#fdca26\"],[1.0,\"#f0f921\"]]}],\"surface\":[{\"type\":\"surface\",\"colorbar\":{\"outlinewidth\":0,\"ticks\":\"\"},\"colorscale\":[[0.0,\"#0d0887\"],[0.1111111111111111,\"#46039f\"],[0.2222222222222222,\"#7201a8\"],[0.3333333333333333,\"#9c179e\"],[0.4444444444444444,\"#bd3786\"],[0.5555555555555556,\"#d8576b\"],[0.6666666666666666,\"#ed7953\"],[0.7777777777777778,\"#fb9f3a\"],[0.8888888888888888,\"#fdca26\"],[1.0,\"#f0f921\"]]}],\"mesh3d\":[{\"type\":\"mesh3d\",\"colorbar\":{\"outlinewidth\":0,\"ticks\":\"\"}}],\"scatter\":[{\"fillpattern\":{\"fillmode\":\"overlay\",\"size\":10,\"solidity\":0.2},\"type\":\"scatter\"}],\"parcoords\":[{\"type\":\"parcoords\",\"line\":{\"colorbar\":{\"outlinewidth\":0,\"ticks\":\"\"}}}],\"scatterpolargl\":[{\"type\":\"scatterpolargl\",\"marker\":{\"colorbar\":{\"outlinewidth\":0,\"ticks\":\"\"}}}],\"bar\":[{\"error_x\":{\"color\":\"#2a3f5f\"},\"error_y\":{\"color\":\"#2a3f5f\"},\"marker\":{\"line\":{\"color\":\"#E5ECF6\",\"width\":0.5},\"pattern\":{\"fillmode\":\"overlay\",\"size\":10,\"solidity\":0.2}},\"type\":\"bar\"}],\"scattergeo\":[{\"type\":\"scattergeo\",\"marker\":{\"colorbar\":{\"outlinewidth\":0,\"ticks\":\"\"}}}],\"scatterpolar\":[{\"type\":\"scatterpolar\",\"marker\":{\"colorbar\":{\"outlinewidth\":0,\"ticks\":\"\"}}}],\"histogram\":[{\"marker\":{\"pattern\":{\"fillmode\":\"overlay\",\"size\":10,\"solidity\":0.2}},\"type\":\"histogram\"}],\"scattergl\":[{\"type\":\"scattergl\",\"marker\":{\"colorbar\":{\"outlinewidth\":0,\"ticks\":\"\"}}}],\"scatter3d\":[{\"type\":\"scatter3d\",\"line\":{\"colorbar\":{\"outlinewidth\":0,\"ticks\":\"\"}},\"marker\":{\"colorbar\":{\"outlinewidth\":0,\"ticks\":\"\"}}}],\"scattermapbox\":[{\"type\":\"scattermapbox\",\"marker\":{\"colorbar\":{\"outlinewidth\":0,\"ticks\":\"\"}}}],\"scatterternary\":[{\"type\":\"scatterternary\",\"marker\":{\"colorbar\":{\"outlinewidth\":0,\"ticks\":\"\"}}}],\"scattercarpet\":[{\"type\":\"scattercarpet\",\"marker\":{\"colorbar\":{\"outlinewidth\":0,\"ticks\":\"\"}}}],\"carpet\":[{\"aaxis\":{\"endlinecolor\":\"#2a3f5f\",\"gridcolor\":\"white\",\"linecolor\":\"white\",\"minorgridcolor\":\"white\",\"startlinecolor\":\"#2a3f5f\"},\"baxis\":{\"endlinecolor\":\"#2a3f5f\",\"gridcolor\":\"white\",\"linecolor\":\"white\",\"minorgridcolor\":\"white\",\"startlinecolor\":\"#2a3f5f\"},\"type\":\"carpet\"}],\"table\":[{\"cells\":{\"fill\":{\"color\":\"#EBF0F8\"},\"line\":{\"color\":\"white\"}},\"header\":{\"fill\":{\"color\":\"#C8D4E3\"},\"line\":{\"color\":\"white\"}},\"type\":\"table\"}],\"barpolar\":[{\"marker\":{\"line\":{\"color\":\"#E5ECF6\",\"width\":0.5},\"pattern\":{\"fillmode\":\"overlay\",\"size\":10,\"solidity\":0.2}},\"type\":\"barpolar\"}],\"pie\":[{\"automargin\":true,\"type\":\"pie\"}]},\"layout\":{\"autotypenumbers\":\"strict\",\"colorway\":[\"#636efa\",\"#EF553B\",\"#00cc96\",\"#ab63fa\",\"#FFA15A\",\"#19d3f3\",\"#FF6692\",\"#B6E880\",\"#FF97FF\",\"#FECB52\"],\"font\":{\"color\":\"#2a3f5f\"},\"hovermode\":\"closest\",\"hoverlabel\":{\"align\":\"left\"},\"paper_bgcolor\":\"white\",\"plot_bgcolor\":\"#E5ECF6\",\"polar\":{\"bgcolor\":\"#E5ECF6\",\"angularaxis\":{\"gridcolor\":\"white\",\"linecolor\":\"white\",\"ticks\":\"\"},\"radialaxis\":{\"gridcolor\":\"white\",\"linecolor\":\"white\",\"ticks\":\"\"}},\"ternary\":{\"bgcolor\":\"#E5ECF6\",\"aaxis\":{\"gridcolor\":\"white\",\"linecolor\":\"white\",\"ticks\":\"\"},\"baxis\":{\"gridcolor\":\"white\",\"linecolor\":\"white\",\"ticks\":\"\"},\"caxis\":{\"gridcolor\":\"white\",\"linecolor\":\"white\",\"ticks\":\"\"}},\"coloraxis\":{\"colorbar\":{\"outlinewidth\":0,\"ticks\":\"\"}},\"colorscale\":{\"sequential\":[[0.0,\"#0d0887\"],[0.1111111111111111,\"#46039f\"],[0.2222222222222222,\"#7201a8\"],[0.3333333333333333,\"#9c179e\"],[0.4444444444444444,\"#bd3786\"],[0.5555555555555556,\"#d8576b\"],[0.6666666666666666,\"#ed7953\"],[0.7777777777777778,\"#fb9f3a\"],[0.8888888888888888,\"#fdca26\"],[1.0,\"#f0f921\"]],\"sequentialminus\":[[0.0,\"#0d0887\"],[0.1111111111111111,\"#46039f\"],[0.2222222222222222,\"#7201a8\"],[0.3333333333333333,\"#9c179e\"],[0.4444444444444444,\"#bd3786\"],[0.5555555555555556,\"#d8576b\"],[0.6666666666666666,\"#ed7953\"],[0.7777777777777778,\"#fb9f3a\"],[0.8888888888888888,\"#fdca26\"],[1.0,\"#f0f921\"]],\"diverging\":[[0,\"#8e0152\"],[0.1,\"#c51b7d\"],[0.2,\"#de77ae\"],[0.3,\"#f1b6da\"],[0.4,\"#fde0ef\"],[0.5,\"#f7f7f7\"],[0.6,\"#e6f5d0\"],[0.7,\"#b8e186\"],[0.8,\"#7fbc41\"],[0.9,\"#4d9221\"],[1,\"#276419\"]]},\"xaxis\":{\"gridcolor\":\"white\",\"linecolor\":\"white\",\"ticks\":\"\",\"title\":{\"standoff\":15},\"zerolinecolor\":\"white\",\"automargin\":true,\"zerolinewidth\":2},\"yaxis\":{\"gridcolor\":\"white\",\"linecolor\":\"white\",\"ticks\":\"\",\"title\":{\"standoff\":15},\"zerolinecolor\":\"white\",\"automargin\":true,\"zerolinewidth\":2},\"scene\":{\"xaxis\":{\"backgroundcolor\":\"#E5ECF6\",\"gridcolor\":\"white\",\"linecolor\":\"white\",\"showbackground\":true,\"ticks\":\"\",\"zerolinecolor\":\"white\",\"gridwidth\":2},\"yaxis\":{\"backgroundcolor\":\"#E5ECF6\",\"gridcolor\":\"white\",\"linecolor\":\"white\",\"showbackground\":true,\"ticks\":\"\",\"zerolinecolor\":\"white\",\"gridwidth\":2},\"zaxis\":{\"backgroundcolor\":\"#E5ECF6\",\"gridcolor\":\"white\",\"linecolor\":\"white\",\"showbackground\":true,\"ticks\":\"\",\"zerolinecolor\":\"white\",\"gridwidth\":2}},\"shapedefaults\":{\"line\":{\"color\":\"#2a3f5f\"}},\"annotationdefaults\":{\"arrowcolor\":\"#2a3f5f\",\"arrowhead\":0,\"arrowwidth\":1},\"geo\":{\"bgcolor\":\"white\",\"landcolor\":\"#E5ECF6\",\"subunitcolor\":\"white\",\"showland\":true,\"showlakes\":true,\"lakecolor\":\"white\"},\"title\":{\"x\":0.05},\"mapbox\":{\"style\":\"light\"}}},\"xaxis\":{\"anchor\":\"y\",\"domain\":[0.0,1.0],\"title\":{\"text\":\"datetime\"}},\"yaxis\":{\"anchor\":\"x\",\"domain\":[0.0,1.0],\"title\":{\"text\":\"value\"}},\"legend\":{\"title\":{\"text\":\"variable\"},\"tracegroupgap\":0},\"margin\":{\"t\":60}},                        {\"responsive\": true}                    ).then(function(){\n",
       "                            \n",
       "var gd = document.getElementById('5ff577c5-4244-47f9-8408-48d581d18e24');\n",
       "var x = new MutationObserver(function (mutations, observer) {{\n",
       "        var display = window.getComputedStyle(gd).display;\n",
       "        if (!display || display === 'none') {{\n",
       "            console.log([gd, 'removed!']);\n",
       "            Plotly.purge(gd);\n",
       "            observer.disconnect();\n",
       "        }}\n",
       "}});\n",
       "\n",
       "// Listen for the removal of the full notebook cells\n",
       "var notebookContainer = gd.closest('#notebook-container');\n",
       "if (notebookContainer) {{\n",
       "    x.observe(notebookContainer, {childList: true});\n",
       "}}\n",
       "\n",
       "// Listen for the clearing of the current output cell\n",
       "var outputEl = gd.closest('.output');\n",
       "if (outputEl) {{\n",
       "    x.observe(outputEl, {childList: true});\n",
       "}}\n",
       "\n",
       "                        })                };                });            </script>        </div>"
      ]
     },
     "metadata": {},
     "output_type": "display_data"
    }
   ],
   "source": [
    "fig = px.line(df, x=\"datetime\", y=[\"ACI\"])\n",
    "fig.show()"
   ]
  },
  {
   "cell_type": "markdown",
   "metadata": {},
   "source": [
    "# Normalize the indices"
   ]
  },
  {
   "cell_type": "code",
   "execution_count": 24,
   "metadata": {},
   "outputs": [],
   "source": [
    "columns_to_normalize = df.columns[2:-1].to_list()\n",
    "\n",
    "# Create a MinMaxScaler object\n",
    "scaler = MinMaxScaler()\n",
    "\n",
    "\n"
   ]
  },
  {
   "cell_type": "code",
   "execution_count": 25,
   "metadata": {},
   "outputs": [
    {
     "ename": "SyntaxError",
     "evalue": "EOF while scanning triple-quoted string literal (2866274431.py, line 3)",
     "output_type": "error",
     "traceback": [
      "\u001b[0;36m  Cell \u001b[0;32mIn[25], line 3\u001b[0;36m\u001b[0m\n\u001b[0;31m    Normalize columns\u001b[0m\n\u001b[0m                     \n^\u001b[0m\n\u001b[0;31mSyntaxError\u001b[0m\u001b[0;31m:\u001b[0m EOF while scanning triple-quoted string literal\n"
     ]
    }
   ],
   "source": [
    "def normalize_df(df_in, col_names):\n",
    "    \"\"\"\n",
    "    Normalize the requested columns in the provided dataframe, and return a normalized version of the dataframe\n",
    "    \"\"\"\n",
    "    df_new = df_in.copy()\n",
    "    "
   ]
  },
  {
   "cell_type": "code",
   "execution_count": null,
   "metadata": {},
   "outputs": [],
   "source": []
  }
 ],
 "metadata": {
  "kernelspec": {
   "display_name": "Python 3 (ipykernel)",
   "language": "python",
   "name": "python3"
  },
  "language_info": {
   "codemirror_mode": {
    "name": "ipython",
    "version": 3
   },
   "file_extension": ".py",
   "mimetype": "text/x-python",
   "name": "python",
   "nbconvert_exporter": "python",
   "pygments_lexer": "ipython3",
   "version": "3.8.5"
  }
 },
 "nbformat": 4,
 "nbformat_minor": 4
}
